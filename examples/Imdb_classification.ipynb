{
 "cells": [
  {
   "cell_type": "markdown",
   "id": "8bb0f5f1",
   "metadata": {},
   "source": [
    "# Text Classfication using TinyBert\n",
    "* Dataset: <https://www.kaggle.com/columbine/imdb-dataset-sentiment-analysis-in-csv-format>"
   ]
  },
  {
   "cell_type": "code",
   "execution_count": 1,
   "id": "269e5eb5",
   "metadata": {},
   "outputs": [],
   "source": [
    "import pandas as pd\n",
    "from sklearn.model_selection import train_test_split\n",
    "import os \n",
    "\n",
    "import torch\n",
    "import torch.nn as nn\n",
    "\n",
    "import transformers\n",
    "import torchflare.callbacks as cbs\n",
    "import torchflare.metrics as metrics\n",
    "import torchflare.criterion as crit\n",
    "from torchflare.experiments import Experiment,ModelConfig\n",
    "from torchflare.datasets import TextDataloader\n"
   ]
  },
  {
   "cell_type": "code",
   "execution_count": 2,
   "id": "fe1aad9f",
   "metadata": {},
   "outputs": [],
   "source": [
    "df = pd.read_csv(\"Train.csv\")"
   ]
  },
  {
   "cell_type": "code",
   "execution_count": 3,
   "id": "59e644ba",
   "metadata": {},
   "outputs": [],
   "source": [
    "train_df , valid_df =train_test_split(df , stratify = df.label,  test_size = 0.1, random_state = 42)"
   ]
  },
  {
   "cell_type": "code",
   "execution_count": 4,
   "id": "89d85a47",
   "metadata": {},
   "outputs": [],
   "source": [
    "tokenizer = transformers.AutoTokenizer.from_pretrained(\"prajjwal1/bert-tiny\")\n",
    "\n",
    "train_dl = TextDataloader.from_df(\n",
    "                        df = train_df,\n",
    "                        input_col = 'text',\n",
    "                        label_cols = 'label',\n",
    "                        tokenizer = tokenizer,\n",
    "                        max_len = 128).get_loader(batch_size = 16 , shuffle = True)\n",
    "\n",
    "valid_dl = TextDataloader.from_df(\n",
    "                        df = valid_df,\n",
    "                        input_col = 'text',\n",
    "                        label_cols = 'label',\n",
    "                        tokenizer = tokenizer,\n",
    "                        max_len = 128).get_loader(batch_size = 16)"
   ]
  },
  {
   "cell_type": "code",
   "execution_count": 5,
   "id": "783d9a09",
   "metadata": {},
   "outputs": [],
   "source": [
    "class Model(torch.nn.Module):\n",
    "\n",
    "    def __init__(self,dropout , out_features):\n",
    "\n",
    "        super(Model , self).__init__()\n",
    "        self.bert = transformers.BertModel.from_pretrained(\n",
    "            \"prajjwal1/bert-tiny\", return_dict=False\n",
    "        )\n",
    "        self.bert_drop = nn.Dropout(dropout)\n",
    "        self.out = nn.Linear(128, out_features)\n",
    "\n",
    "    def forward(self, x):\n",
    "        _ , o_2 = self.bert(**x)\n",
    "\n",
    "        b_o = self.bert_drop(o_2)\n",
    "        output = self.out(b_o)\n",
    "        return output\n"
   ]
  },
  {
   "cell_type": "code",
   "execution_count": 6,
   "id": "2c2a4387",
   "metadata": {},
   "outputs": [],
   "source": [
    "metric_list = [metrics.Accuracy(num_classes=2, multilabel=False)]\n",
    "\n",
    "callbacks = [\n",
    "    cbs.EarlyStopping(monitor=\"val_accuracy\", patience=2, mode = \"max\"),\n",
    "    cbs.ModelCheckpoint(monitor=\"val_accuracy\" , mode = \"max\", save_dir = \"./\",\n",
    "                       file_name = \"model.bin\"),\n",
    "    cbs.ReduceLROnPlateau(mode = \"max\" , patience = 2)\n",
    "]"
   ]
  },
  {
   "cell_type": "code",
   "execution_count": 7,
   "id": "fae0c612",
   "metadata": {},
   "outputs": [],
   "source": [
    "config = ModelConfig(nn_module = Model, module_params = {\"dropout\" : 0.3 , \"out_features\" : 1}\n",
    "                     , optimizer = \"AdamW\",optimizer_params = {\"lr\" : 3e-4},\n",
    "                    criterion = crit.BCEWithLogitsFlat)"
   ]
  },
  {
   "cell_type": "code",
   "execution_count": 8,
   "id": "1eaac7a1",
   "metadata": {},
   "outputs": [
    {
     "name": "stderr",
     "output_type": "stream",
     "text": [
      "Some weights of the model checkpoint at prajjwal1/bert-tiny were not used when initializing BertModel: ['cls.predictions.transform.LayerNorm.weight', 'cls.seq_relationship.bias', 'cls.predictions.bias', 'cls.predictions.transform.dense.weight', 'cls.predictions.decoder.bias', 'cls.seq_relationship.weight', 'cls.predictions.transform.dense.bias', 'cls.predictions.transform.LayerNorm.bias', 'cls.predictions.decoder.weight']\n",
      "- This IS expected if you are initializing BertModel from the checkpoint of a model trained on another task or with another architecture (e.g. initializing a BertForSequenceClassification model from a BertForPreTraining model).\n",
      "- This IS NOT expected if you are initializing BertModel from the checkpoint of a model that you expect to be exactly identical (initializing a BertForSequenceClassification model from a BertForSequenceClassification model).\n"
     ]
    },
    {
     "name": "stdout",
     "output_type": "stream",
     "text": [
      "\n",
      "Epoch: 1/3\n",
      "2250/2250 [=========================]- 101s 45ms/step - train_loss: 0.4421 - train_accuracy: 0.7921\n",
      "250/250 [=========================]- 8s 34ms/step - val_loss: 0.3762 - val_accuracy: 0.7961\n",
      "\n",
      "Epoch: 2/3\n",
      "2250/2250 [=========================]- 119s 53ms/step - train_loss: 0.2886 - train_accuracy: 0.8356\n",
      "250/250 [=========================]- 9s 35ms/step - val_loss: 0.3837 - val_accuracy: 0.8360\n",
      "\n",
      "Epoch: 3/3\n",
      "2250/2250 [=========================]- 125s 56ms/step - train_loss: 0.1815 - train_accuracy: 0.8658\n",
      "250/250 [=========================]- 9s 37ms/step - val_loss: 0.4418 - val_accuracy: 0.8646\n"
     ]
    }
   ],
   "source": [
    "exp = Experiment(\n",
    "    num_epochs=3,\n",
    "    fp16=True,\n",
    "    device=\"cuda\",\n",
    "    seed=42,\n",
    ")\n",
    "\n",
    "# Compiling the experiment\n",
    "exp.compile_experiment(\n",
    "    model_config = config,\n",
    "    callbacks = callbacks,\n",
    "    metrics=metric_list,\n",
    "    main_metric=\"accuracy\",\n",
    ")\n",
    "\n",
    "# Training the models.\n",
    "exp.fit_loader(train_dl = train_dl , valid_dl = valid_dl)"
   ]
  },
  {
   "cell_type": "code",
   "execution_count": 9,
   "id": "89c32c51",
   "metadata": {},
   "outputs": [
    {
     "data": {
      "text/html": [
       "<div>\n",
       "<style scoped>\n",
       "    .dataframe tbody tr th:only-of-type {\n",
       "        vertical-align: middle;\n",
       "    }\n",
       "\n",
       "    .dataframe tbody tr th {\n",
       "        vertical-align: top;\n",
       "    }\n",
       "\n",
       "    .dataframe thead th {\n",
       "        text-align: right;\n",
       "    }\n",
       "</style>\n",
       "<table border=\"1\" class=\"dataframe\">\n",
       "  <thead>\n",
       "    <tr style=\"text-align: right;\">\n",
       "      <th></th>\n",
       "      <th>Epoch</th>\n",
       "      <th>train_loss</th>\n",
       "      <th>train_accuracy</th>\n",
       "      <th>val_loss</th>\n",
       "      <th>val_accuracy</th>\n",
       "    </tr>\n",
       "  </thead>\n",
       "  <tbody>\n",
       "    <tr>\n",
       "      <th>0</th>\n",
       "      <td>1</td>\n",
       "      <td>0.442108</td>\n",
       "      <td>0.792111</td>\n",
       "      <td>0.376175</td>\n",
       "      <td>0.796100</td>\n",
       "    </tr>\n",
       "    <tr>\n",
       "      <th>1</th>\n",
       "      <td>2</td>\n",
       "      <td>0.288617</td>\n",
       "      <td>0.835605</td>\n",
       "      <td>0.383742</td>\n",
       "      <td>0.835988</td>\n",
       "    </tr>\n",
       "    <tr>\n",
       "      <th>2</th>\n",
       "      <td>3</td>\n",
       "      <td>0.181499</td>\n",
       "      <td>0.865793</td>\n",
       "      <td>0.441848</td>\n",
       "      <td>0.864558</td>\n",
       "    </tr>\n",
       "  </tbody>\n",
       "</table>\n",
       "</div>"
      ],
      "text/plain": [
       "   Epoch  train_loss  train_accuracy  val_loss  val_accuracy\n",
       "0      1    0.442108        0.792111  0.376175      0.796100\n",
       "1      2    0.288617        0.835605  0.383742      0.835988\n",
       "2      3    0.181499        0.865793  0.441848      0.864558"
      ]
     },
     "execution_count": 9,
     "metadata": {},
     "output_type": "execute_result"
    }
   ],
   "source": [
    "exp.get_logs()"
   ]
  }
 ],
 "metadata": {
  "kernelspec": {
   "display_name": "Python 3",
   "language": "python",
   "name": "python3"
  },
  "language_info": {
   "codemirror_mode": {
    "name": "ipython",
    "version": 3
   },
   "file_extension": ".py",
   "mimetype": "text/x-python",
   "name": "python",
   "nbconvert_exporter": "python",
   "pygments_lexer": "ipython3",
   "version": "3.8.5"
  }
 },
 "nbformat": 4,
 "nbformat_minor": 5
}

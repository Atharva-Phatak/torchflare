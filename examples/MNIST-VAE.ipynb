{
 "cells": [
  {
   "cell_type": "code",
   "execution_count": 1,
   "id": "101e3c79",
   "metadata": {},
   "outputs": [],
   "source": [
    "import torch\n",
    "import torchvision\n",
    "from torch import nn\n",
    "from torch.utils.data import DataLoader\n",
    "from torchvision import transforms\n",
    "from torchvision.datasets import MNIST\n",
    "from matplotlib import pyplot as plt\n",
    "import torch.nn.functional as F\n",
    "from torchflare.experiments import Experiment, ModelConfig"
   ]
  },
  {
   "cell_type": "code",
   "execution_count": 2,
   "id": "1ac7a921",
   "metadata": {},
   "outputs": [
    {
     "data": {
      "application/javascript": [
       "\n",
       "            setTimeout(function() {\n",
       "                var nbb_cell_id = 2;\n",
       "                var nbb_unformatted_code = \"%load_ext nb_black\";\n",
       "                var nbb_formatted_code = \"%load_ext nb_black\";\n",
       "                var nbb_cells = Jupyter.notebook.get_cells();\n",
       "                for (var i = 0; i < nbb_cells.length; ++i) {\n",
       "                    if (nbb_cells[i].input_prompt_number == nbb_cell_id) {\n",
       "                        if (nbb_cells[i].get_text() == nbb_unformatted_code) {\n",
       "                             nbb_cells[i].set_text(nbb_formatted_code);\n",
       "                        }\n",
       "                        break;\n",
       "                    }\n",
       "                }\n",
       "            }, 500);\n",
       "            "
      ],
      "text/plain": [
       "<IPython.core.display.Javascript object>"
      ]
     },
     "metadata": {},
     "output_type": "display_data"
    }
   ],
   "source": [
    "%load_ext nb_black"
   ]
  },
  {
   "cell_type": "code",
   "execution_count": 3,
   "id": "4f3a5f2f",
   "metadata": {},
   "outputs": [
    {
     "data": {
      "application/javascript": [
       "\n",
       "            setTimeout(function() {\n",
       "                var nbb_cell_id = 3;\n",
       "                var nbb_unformatted_code = \"train_dataset = MNIST(root='./mnist_data/', train=True, transform=transforms.ToTensor(), download=True)\\ntest_dataset = MNIST(root='./mnist_data/', train=False, transform=transforms.ToTensor(), download=False)\";\n",
       "                var nbb_formatted_code = \"train_dataset = MNIST(\\n    root=\\\"./mnist_data/\\\", train=True, transform=transforms.ToTensor(), download=True\\n)\\ntest_dataset = MNIST(\\n    root=\\\"./mnist_data/\\\", train=False, transform=transforms.ToTensor(), download=False\\n)\";\n",
       "                var nbb_cells = Jupyter.notebook.get_cells();\n",
       "                for (var i = 0; i < nbb_cells.length; ++i) {\n",
       "                    if (nbb_cells[i].input_prompt_number == nbb_cell_id) {\n",
       "                        if (nbb_cells[i].get_text() == nbb_unformatted_code) {\n",
       "                             nbb_cells[i].set_text(nbb_formatted_code);\n",
       "                        }\n",
       "                        break;\n",
       "                    }\n",
       "                }\n",
       "            }, 500);\n",
       "            "
      ],
      "text/plain": [
       "<IPython.core.display.Javascript object>"
      ]
     },
     "metadata": {},
     "output_type": "display_data"
    }
   ],
   "source": [
    "train_dataset = MNIST(root='./mnist_data/', train=True, transform=transforms.ToTensor(), download=True)\n",
    "test_dataset = MNIST(root='./mnist_data/', train=False, transform=transforms.ToTensor(), download=False)\n"
   ]
  },
  {
   "cell_type": "code",
   "execution_count": 4,
   "id": "12db3709",
   "metadata": {},
   "outputs": [
    {
     "data": {
      "application/javascript": [
       "\n",
       "            setTimeout(function() {\n",
       "                var nbb_cell_id = 4;\n",
       "                var nbb_unformatted_code = \"train_dataset, val_dataset = torch.utils.data.random_split(\\n    train_dataset, [50000, 10000]\\n)\";\n",
       "                var nbb_formatted_code = \"train_dataset, val_dataset = torch.utils.data.random_split(\\n    train_dataset, [50000, 10000]\\n)\";\n",
       "                var nbb_cells = Jupyter.notebook.get_cells();\n",
       "                for (var i = 0; i < nbb_cells.length; ++i) {\n",
       "                    if (nbb_cells[i].input_prompt_number == nbb_cell_id) {\n",
       "                        if (nbb_cells[i].get_text() == nbb_unformatted_code) {\n",
       "                             nbb_cells[i].set_text(nbb_formatted_code);\n",
       "                        }\n",
       "                        break;\n",
       "                    }\n",
       "                }\n",
       "            }, 500);\n",
       "            "
      ],
      "text/plain": [
       "<IPython.core.display.Javascript object>"
      ]
     },
     "metadata": {},
     "output_type": "display_data"
    }
   ],
   "source": [
    "train_dataset, val_dataset = torch.utils.data.random_split(\n",
    "    train_dataset, [50000, 10000]\n",
    ")"
   ]
  },
  {
   "cell_type": "code",
   "execution_count": 5,
   "id": "49a9d479",
   "metadata": {},
   "outputs": [
    {
     "data": {
      "application/javascript": [
       "\n",
       "            setTimeout(function() {\n",
       "                var nbb_cell_id = 5;\n",
       "                var nbb_unformatted_code = \"bs = 64\\ntrain_loader = torch.utils.data.DataLoader(\\n    dataset=train_dataset, batch_size=bs, shuffle=True\\n)\\nval_loader = torch.utils.data.DataLoader(\\n    dataset=val_dataset, batch_size=bs, shuffle=True\\n)\\ntest_loader = torch.utils.data.DataLoader(\\n    dataset=test_dataset, batch_size=bs, shuffle=False\\n)\";\n",
       "                var nbb_formatted_code = \"bs = 64\\ntrain_loader = torch.utils.data.DataLoader(\\n    dataset=train_dataset, batch_size=bs, shuffle=True\\n)\\nval_loader = torch.utils.data.DataLoader(\\n    dataset=val_dataset, batch_size=bs, shuffle=True\\n)\\ntest_loader = torch.utils.data.DataLoader(\\n    dataset=test_dataset, batch_size=bs, shuffle=False\\n)\";\n",
       "                var nbb_cells = Jupyter.notebook.get_cells();\n",
       "                for (var i = 0; i < nbb_cells.length; ++i) {\n",
       "                    if (nbb_cells[i].input_prompt_number == nbb_cell_id) {\n",
       "                        if (nbb_cells[i].get_text() == nbb_unformatted_code) {\n",
       "                             nbb_cells[i].set_text(nbb_formatted_code);\n",
       "                        }\n",
       "                        break;\n",
       "                    }\n",
       "                }\n",
       "            }, 500);\n",
       "            "
      ],
      "text/plain": [
       "<IPython.core.display.Javascript object>"
      ]
     },
     "metadata": {},
     "output_type": "display_data"
    }
   ],
   "source": [
    "bs = 64\n",
    "train_loader = torch.utils.data.DataLoader(\n",
    "    dataset=train_dataset, batch_size=bs, shuffle=True\n",
    ")\n",
    "val_loader = torch.utils.data.DataLoader(\n",
    "    dataset=val_dataset, batch_size=bs, shuffle=True\n",
    ")\n",
    "test_loader = torch.utils.data.DataLoader(\n",
    "    dataset=test_dataset, batch_size=bs, shuffle=False\n",
    ")"
   ]
  },
  {
   "cell_type": "code",
   "execution_count": 6,
   "id": "bf66dc27",
   "metadata": {},
   "outputs": [
    {
     "data": {
      "application/javascript": [
       "\n",
       "            setTimeout(function() {\n",
       "                var nbb_cell_id = 6;\n",
       "                var nbb_unformatted_code = \"class VAE(nn.Module):\\n    def __init__(self, d):\\n        super().__init__()\\n        self.d = d\\n        self.encoder = nn.Sequential(\\n            nn.Linear(784, self.d ** 2), nn.ReLU(), nn.Linear(self.d ** 2, self.d * 2)\\n        )\\n\\n        self.decoder = nn.Sequential(\\n            nn.Linear(self.d, self.d ** 2),\\n            nn.ReLU(),\\n            nn.Linear(self.d ** 2, 784),\\n            nn.Sigmoid(),\\n        )\\n\\n    def reparameterise(self, mu, logvar):\\n        if self.training:\\n            std = logvar.mul(0.5).exp_()\\n            eps = std.data.new(std.size()).normal_()\\n            return eps.mul(std).add_(mu)\\n        else:\\n            return mu\\n\\n    def forward(self, x):\\n        mu_logvar = self.encoder(x.view(-1, 784)).view(-1, 2, self.d)\\n        mu = mu_logvar[:, 0, :]\\n        logvar = mu_logvar[:, 1, :]\\n        z = self.reparameterise(mu, logvar)\\n        return self.decoder(z), mu, logvar\";\n",
       "                var nbb_formatted_code = \"class VAE(nn.Module):\\n    def __init__(self, d):\\n        super().__init__()\\n        self.d = d\\n        self.encoder = nn.Sequential(\\n            nn.Linear(784, self.d ** 2), nn.ReLU(), nn.Linear(self.d ** 2, self.d * 2)\\n        )\\n\\n        self.decoder = nn.Sequential(\\n            nn.Linear(self.d, self.d ** 2),\\n            nn.ReLU(),\\n            nn.Linear(self.d ** 2, 784),\\n            nn.Sigmoid(),\\n        )\\n\\n    def reparameterise(self, mu, logvar):\\n        if self.training:\\n            std = logvar.mul(0.5).exp_()\\n            eps = std.data.new(std.size()).normal_()\\n            return eps.mul(std).add_(mu)\\n        else:\\n            return mu\\n\\n    def forward(self, x):\\n        mu_logvar = self.encoder(x.view(-1, 784)).view(-1, 2, self.d)\\n        mu = mu_logvar[:, 0, :]\\n        logvar = mu_logvar[:, 1, :]\\n        z = self.reparameterise(mu, logvar)\\n        return self.decoder(z), mu, logvar\";\n",
       "                var nbb_cells = Jupyter.notebook.get_cells();\n",
       "                for (var i = 0; i < nbb_cells.length; ++i) {\n",
       "                    if (nbb_cells[i].input_prompt_number == nbb_cell_id) {\n",
       "                        if (nbb_cells[i].get_text() == nbb_unformatted_code) {\n",
       "                             nbb_cells[i].set_text(nbb_formatted_code);\n",
       "                        }\n",
       "                        break;\n",
       "                    }\n",
       "                }\n",
       "            }, 500);\n",
       "            "
      ],
      "text/plain": [
       "<IPython.core.display.Javascript object>"
      ]
     },
     "metadata": {},
     "output_type": "display_data"
    }
   ],
   "source": [
    "class VAE(nn.Module):\n",
    "    def __init__(self, d):\n",
    "        super().__init__()\n",
    "        self.d = d\n",
    "        self.encoder = nn.Sequential(\n",
    "            nn.Linear(784, self.d ** 2), nn.ReLU(), nn.Linear(self.d ** 2, self.d * 2)\n",
    "        )\n",
    "\n",
    "        self.decoder = nn.Sequential(\n",
    "            nn.Linear(self.d, self.d ** 2),\n",
    "            nn.ReLU(),\n",
    "            nn.Linear(self.d ** 2, 784),\n",
    "            nn.Sigmoid(),\n",
    "        )\n",
    "\n",
    "    def reparameterise(self, mu, logvar):\n",
    "        if self.training:\n",
    "            std = logvar.mul(0.5).exp_()\n",
    "            eps = std.data.new(std.size()).normal_()\n",
    "            return eps.mul(std).add_(mu)\n",
    "        else:\n",
    "            return mu\n",
    "\n",
    "    def forward(self, x):\n",
    "        mu_logvar = self.encoder(x.view(-1, 784)).view(-1, 2, self.d)\n",
    "        mu = mu_logvar[:, 0, :]\n",
    "        logvar = mu_logvar[:, 1, :]\n",
    "        z = self.reparameterise(mu, logvar)\n",
    "        return self.decoder(z), mu, logvar"
   ]
  },
  {
   "cell_type": "code",
   "execution_count": 7,
   "id": "0da8d47a",
   "metadata": {},
   "outputs": [
    {
     "data": {
      "application/javascript": [
       "\n",
       "            setTimeout(function() {\n",
       "                var nbb_cell_id = 7;\n",
       "                var nbb_unformatted_code = \"# Reconstruction + \\u03b2 * KL divergence losses summed over all elements and batch\\n\\ndef loss_function(x_hat, x, mu, logvar, \\u03b2=1):\\n    BCE = nn.functional.binary_cross_entropy(\\n        x_hat, x.view(-1, 784), reduction='sum'\\n    )\\n    KLD = 0.5 * torch.sum(logvar.exp() - logvar - 1 + mu.pow(2))\\n\\n    return BCE + \\u03b2 * KLD\";\n",
       "                var nbb_formatted_code = \"# Reconstruction + \\u03b2 * KL divergence losses summed over all elements and batch\\n\\n\\ndef loss_function(x_hat, x, mu, logvar, \\u03b2=1):\\n    BCE = nn.functional.binary_cross_entropy(x_hat, x.view(-1, 784), reduction=\\\"sum\\\")\\n    KLD = 0.5 * torch.sum(logvar.exp() - logvar - 1 + mu.pow(2))\\n\\n    return BCE + \\u03b2 * KLD\";\n",
       "                var nbb_cells = Jupyter.notebook.get_cells();\n",
       "                for (var i = 0; i < nbb_cells.length; ++i) {\n",
       "                    if (nbb_cells[i].input_prompt_number == nbb_cell_id) {\n",
       "                        if (nbb_cells[i].get_text() == nbb_unformatted_code) {\n",
       "                             nbb_cells[i].set_text(nbb_formatted_code);\n",
       "                        }\n",
       "                        break;\n",
       "                    }\n",
       "                }\n",
       "            }, 500);\n",
       "            "
      ],
      "text/plain": [
       "<IPython.core.display.Javascript object>"
      ]
     },
     "metadata": {},
     "output_type": "display_data"
    }
   ],
   "source": [
    "# Reconstruction + β * KL divergence losses summed over all elements and batch\n",
    "\n",
    "def loss_function(x_hat, x, mu, logvar, β=1):\n",
    "    BCE = nn.functional.binary_cross_entropy(\n",
    "        x_hat, x.view(-1, 784), reduction='sum'\n",
    "    )\n",
    "    KLD = 0.5 * torch.sum(logvar.exp() - logvar - 1 + mu.pow(2))\n",
    "\n",
    "    return BCE + β * KLD\n",
    "\n"
   ]
  },
  {
   "cell_type": "code",
   "execution_count": 8,
   "id": "f47ea905",
   "metadata": {},
   "outputs": [
    {
     "data": {
      "application/javascript": [
       "\n",
       "            setTimeout(function() {\n",
       "                var nbb_cell_id = 8;\n",
       "                var nbb_unformatted_code = \"class VAEExperiment(Experiment):\\n    def batch_step(self):\\n\\n        self.preds = self.state.model(self.batch[self.input_key])\\n        x_hat, mu, logvar = self.preds\\n        self.loss = self.state.criterion(x_hat, self.batch[self.input_key], mu, logvar)\\n        self.loss_per_batch = {\\\"loss\\\" : self.loss.item()}\";\n",
       "                var nbb_formatted_code = \"class VAEExperiment(Experiment):\\n    def batch_step(self):\\n\\n        self.preds = self.state.model(self.batch[self.input_key])\\n        x_hat, mu, logvar = self.preds\\n        self.loss = self.state.criterion(x_hat, self.batch[self.input_key], mu, logvar)\\n        self.loss_per_batch = {\\\"loss\\\": self.loss.item()}\";\n",
       "                var nbb_cells = Jupyter.notebook.get_cells();\n",
       "                for (var i = 0; i < nbb_cells.length; ++i) {\n",
       "                    if (nbb_cells[i].input_prompt_number == nbb_cell_id) {\n",
       "                        if (nbb_cells[i].get_text() == nbb_unformatted_code) {\n",
       "                             nbb_cells[i].set_text(nbb_formatted_code);\n",
       "                        }\n",
       "                        break;\n",
       "                    }\n",
       "                }\n",
       "            }, 500);\n",
       "            "
      ],
      "text/plain": [
       "<IPython.core.display.Javascript object>"
      ]
     },
     "metadata": {},
     "output_type": "display_data"
    }
   ],
   "source": [
    "class VAEExperiment(Experiment):\n",
    "    def batch_step(self):\n",
    "\n",
    "        self.preds = self.state.model(self.batch[self.input_key])\n",
    "        x_hat, mu, logvar = self.preds\n",
    "        self.loss = self.state.criterion(x_hat, self.batch[self.input_key], mu, logvar)\n",
    "        self.loss_per_batch = {\"loss\": self.loss.item()}"
   ]
  },
  {
   "cell_type": "code",
   "execution_count": 9,
   "id": "b14f24eb",
   "metadata": {},
   "outputs": [
    {
     "data": {
      "application/javascript": [
       "\n",
       "            setTimeout(function() {\n",
       "                var nbb_cell_id = 9;\n",
       "                var nbb_unformatted_code = \"config = ModelConfig(\\n    nn_module=VAE,\\n    module_params={\\\"d\\\": 20},\\n    optimizer=\\\"Adam\\\",\\n    optimizer_params={\\\"lr\\\": 3e-3},\\n    criterion=loss_function,\\n)\";\n",
       "                var nbb_formatted_code = \"config = ModelConfig(\\n    nn_module=VAE,\\n    module_params={\\\"d\\\": 20},\\n    optimizer=\\\"Adam\\\",\\n    optimizer_params={\\\"lr\\\": 3e-3},\\n    criterion=loss_function,\\n)\";\n",
       "                var nbb_cells = Jupyter.notebook.get_cells();\n",
       "                for (var i = 0; i < nbb_cells.length; ++i) {\n",
       "                    if (nbb_cells[i].input_prompt_number == nbb_cell_id) {\n",
       "                        if (nbb_cells[i].get_text() == nbb_unformatted_code) {\n",
       "                             nbb_cells[i].set_text(nbb_formatted_code);\n",
       "                        }\n",
       "                        break;\n",
       "                    }\n",
       "                }\n",
       "            }, 500);\n",
       "            "
      ],
      "text/plain": [
       "<IPython.core.display.Javascript object>"
      ]
     },
     "metadata": {},
     "output_type": "display_data"
    }
   ],
   "source": [
    "config = ModelConfig(\n",
    "    nn_module=VAE,\n",
    "    module_params={\"d\": 20},\n",
    "    optimizer=\"Adam\",\n",
    "    optimizer_params={\"lr\": 3e-3},\n",
    "    criterion=loss_function,\n",
    ")"
   ]
  },
  {
   "cell_type": "code",
   "execution_count": 10,
   "id": "0a8ca9ba",
   "metadata": {},
   "outputs": [
    {
     "data": {
      "application/javascript": [
       "\n",
       "            setTimeout(function() {\n",
       "                var nbb_cell_id = 10;\n",
       "                var nbb_unformatted_code = \"exp = VAEExperiment(num_epochs=30, fp16=False, device=\\\"cuda\\\", seed=42)\";\n",
       "                var nbb_formatted_code = \"exp = VAEExperiment(num_epochs=30, fp16=False, device=\\\"cuda\\\", seed=42)\";\n",
       "                var nbb_cells = Jupyter.notebook.get_cells();\n",
       "                for (var i = 0; i < nbb_cells.length; ++i) {\n",
       "                    if (nbb_cells[i].input_prompt_number == nbb_cell_id) {\n",
       "                        if (nbb_cells[i].get_text() == nbb_unformatted_code) {\n",
       "                             nbb_cells[i].set_text(nbb_formatted_code);\n",
       "                        }\n",
       "                        break;\n",
       "                    }\n",
       "                }\n",
       "            }, 500);\n",
       "            "
      ],
      "text/plain": [
       "<IPython.core.display.Javascript object>"
      ]
     },
     "metadata": {},
     "output_type": "display_data"
    }
   ],
   "source": [
    "exp = VAEExperiment(num_epochs=30, fp16=False, device=\"cuda\", seed=42)"
   ]
  },
  {
   "cell_type": "code",
   "execution_count": 11,
   "id": "5c61d7ee",
   "metadata": {},
   "outputs": [
    {
     "data": {
      "application/javascript": [
       "\n",
       "            setTimeout(function() {\n",
       "                var nbb_cell_id = 11;\n",
       "                var nbb_unformatted_code = \"exp.compile_experiment(model_config=config)\";\n",
       "                var nbb_formatted_code = \"exp.compile_experiment(model_config=config)\";\n",
       "                var nbb_cells = Jupyter.notebook.get_cells();\n",
       "                for (var i = 0; i < nbb_cells.length; ++i) {\n",
       "                    if (nbb_cells[i].input_prompt_number == nbb_cell_id) {\n",
       "                        if (nbb_cells[i].get_text() == nbb_unformatted_code) {\n",
       "                             nbb_cells[i].set_text(nbb_formatted_code);\n",
       "                        }\n",
       "                        break;\n",
       "                    }\n",
       "                }\n",
       "            }, 500);\n",
       "            "
      ],
      "text/plain": [
       "<IPython.core.display.Javascript object>"
      ]
     },
     "metadata": {},
     "output_type": "display_data"
    }
   ],
   "source": [
    "exp.compile_experiment(model_config=config)"
   ]
  },
  {
   "cell_type": "code",
   "execution_count": 12,
   "id": "3c4128c5",
   "metadata": {},
   "outputs": [
    {
     "name": "stdout",
     "output_type": "stream",
     "text": [
      "\n",
      "Epoch: 1/30\n",
      "782/782 [=========================]- 8s 11ms/step - train_loss: 8793.0826\n",
      "157/157 [=========================]- 1s 5ms/step - val_loss: 6925.0907\n",
      "\n",
      "Epoch: 2/30\n",
      "782/782 [=========================]- 6s 8ms/step - train_loss: 7271.0933\n",
      "157/157 [=========================]- 1s 5ms/step - val_loss: 6596.7044\n",
      "\n",
      "Epoch: 3/30\n",
      "782/782 [=========================]- 6s 8ms/step - train_loss: 7090.7769\n",
      "157/157 [=========================]- 1s 6ms/step - val_loss: 6496.8279\n",
      "\n",
      "Epoch: 4/30\n",
      "782/782 [=========================]- 6s 8ms/step - train_loss: 7009.9138\n",
      "157/157 [=========================]- 1s 5ms/step - val_loss: 6483.5346\n",
      "\n",
      "Epoch: 5/30\n",
      "782/782 [=========================]- 6s 8ms/step - train_loss: 6947.9354\n",
      "157/157 [=========================]- 1s 6ms/step - val_loss: 6392.1784\n",
      "\n",
      "Epoch: 6/30\n",
      "782/782 [=========================]- 6s 8ms/step - train_loss: 6914.5082\n",
      "157/157 [=========================]- 1s 6ms/step - val_loss: 6421.4130\n",
      "\n",
      "Epoch: 7/30\n",
      "782/782 [=========================]- 6s 8ms/step - train_loss: 6886.1923\n",
      "157/157 [=========================]- 1s 6ms/step - val_loss: 6346.8642\n",
      "\n",
      "Epoch: 8/30\n",
      "782/782 [=========================]- 6s 8ms/step - train_loss: 6864.8903\n",
      "157/157 [=========================]- 1s 6ms/step - val_loss: 6386.7584\n",
      "\n",
      "Epoch: 9/30\n",
      "782/782 [=========================]- 6s 8ms/step - train_loss: 6842.4793\n",
      "157/157 [=========================]- 1s 6ms/step - val_loss: 6371.9881\n",
      "\n",
      "Epoch: 10/30\n",
      "782/782 [=========================]- 6s 8ms/step - train_loss: 6825.6260\n",
      "157/157 [=========================]- 1s 5ms/step - val_loss: 6397.7392\n",
      "\n",
      "Epoch: 11/30\n",
      "782/782 [=========================]- 6s 8ms/step - train_loss: 6810.8317\n",
      "157/157 [=========================]- 1s 6ms/step - val_loss: 6348.0972\n",
      "\n",
      "Epoch: 12/30\n",
      "782/782 [=========================]- 6s 8ms/step - train_loss: 6793.6284\n",
      "157/157 [=========================]- 1s 6ms/step - val_loss: 6333.8191\n",
      "\n",
      "Epoch: 13/30\n",
      "782/782 [=========================]- 6s 8ms/step - train_loss: 6785.2956\n",
      "157/157 [=========================]- 1s 6ms/step - val_loss: 6383.1577\n",
      "\n",
      "Epoch: 14/30\n",
      "782/782 [=========================]- 6s 8ms/step - train_loss: 6772.1341\n",
      "157/157 [=========================]- 1s 6ms/step - val_loss: 6292.9551\n",
      "\n",
      "Epoch: 15/30\n",
      "782/782 [=========================]- 7s 8ms/step - train_loss: 6765.3514\n",
      "157/157 [=========================]- 1s 6ms/step - val_loss: 6338.0233\n",
      "\n",
      "Epoch: 16/30\n",
      "782/782 [=========================]- 7s 8ms/step - train_loss: 6758.3885\n",
      "157/157 [=========================]- 1s 6ms/step - val_loss: 6252.9740\n",
      "\n",
      "Epoch: 17/30\n",
      "782/782 [=========================]- 7s 8ms/step - train_loss: 6750.3895\n",
      "157/157 [=========================]- 1s 6ms/step - val_loss: 6318.6161\n",
      "\n",
      "Epoch: 18/30\n",
      "782/782 [=========================]- 6s 8ms/step - train_loss: 6740.6564\n",
      "157/157 [=========================]- 1s 6ms/step - val_loss: 6290.3937\n",
      "\n",
      "Epoch: 19/30\n",
      "782/782 [=========================]- 7s 8ms/step - train_loss: 6735.3649\n",
      "157/157 [=========================]- 1s 6ms/step - val_loss: 6289.0424\n",
      "\n",
      "Epoch: 20/30\n",
      "782/782 [=========================]- 7s 8ms/step - train_loss: 6727.2228\n",
      "157/157 [=========================]- 1s 6ms/step - val_loss: 6246.7079\n",
      "\n",
      "Epoch: 21/30\n",
      "782/782 [=========================]- 7s 8ms/step - train_loss: 6723.1928\n",
      "157/157 [=========================]- 1s 6ms/step - val_loss: 6272.2896\n",
      "\n",
      "Epoch: 22/30\n",
      "782/782 [=========================]- 7s 8ms/step - train_loss: 6720.2932\n",
      "157/157 [=========================]- 1s 7ms/step - val_loss: 6285.2415\n",
      "\n",
      "Epoch: 23/30\n",
      "782/782 [=========================]- 7s 8ms/step - train_loss: 6714.6878\n",
      "157/157 [=========================]- 1s 6ms/step - val_loss: 6300.4810\n",
      "\n",
      "Epoch: 24/30\n",
      "782/782 [=========================]- 6s 8ms/step - train_loss: 6711.4272\n",
      "157/157 [=========================]- 1s 6ms/step - val_loss: 6244.9749\n",
      "\n",
      "Epoch: 25/30\n",
      "782/782 [=========================]- 7s 9ms/step - train_loss: 6707.1909\n",
      "157/157 [=========================]- 1s 7ms/step - val_loss: 6250.4496\n",
      "\n",
      "Epoch: 26/30\n",
      "782/782 [=========================]- 7s 9ms/step - train_loss: 6699.7016\n",
      "157/157 [=========================]- 1s 6ms/step - val_loss: 6286.3927\n",
      "\n",
      "Epoch: 27/30\n",
      "782/782 [=========================]- 7s 8ms/step - train_loss: 6696.2519\n",
      "157/157 [=========================]- 1s 7ms/step - val_loss: 6246.4176\n",
      "\n",
      "Epoch: 28/30\n",
      "782/782 [=========================]- 7s 8ms/step - train_loss: 6689.8151\n",
      "157/157 [=========================]- 1s 6ms/step - val_loss: 6229.1915\n",
      "\n",
      "Epoch: 29/30\n",
      "782/782 [=========================]- 7s 9ms/step - train_loss: 6694.1310\n",
      "157/157 [=========================]- 1s 7ms/step - val_loss: 6272.3398\n",
      "\n",
      "Epoch: 30/30\n",
      "782/782 [=========================]- 7s 9ms/step - train_loss: 6687.0533\n",
      "157/157 [=========================]- 1s 7ms/step - val_loss: 6267.6894\n"
     ]
    },
    {
     "data": {
      "application/javascript": [
       "\n",
       "            setTimeout(function() {\n",
       "                var nbb_cell_id = 12;\n",
       "                var nbb_unformatted_code = \"exp.fit_loader(train_loader, val_loader)\";\n",
       "                var nbb_formatted_code = \"exp.fit_loader(train_loader, val_loader)\";\n",
       "                var nbb_cells = Jupyter.notebook.get_cells();\n",
       "                for (var i = 0; i < nbb_cells.length; ++i) {\n",
       "                    if (nbb_cells[i].input_prompt_number == nbb_cell_id) {\n",
       "                        if (nbb_cells[i].get_text() == nbb_unformatted_code) {\n",
       "                             nbb_cells[i].set_text(nbb_formatted_code);\n",
       "                        }\n",
       "                        break;\n",
       "                    }\n",
       "                }\n",
       "            }, 500);\n",
       "            "
      ],
      "text/plain": [
       "<IPython.core.display.Javascript object>"
      ]
     },
     "metadata": {},
     "output_type": "display_data"
    }
   ],
   "source": [
    "exp.fit_loader(train_loader, val_loader)"
   ]
  },
  {
   "cell_type": "code",
   "execution_count": 13,
   "id": "bd709a13",
   "metadata": {},
   "outputs": [
    {
     "data": {
      "application/javascript": [
       "\n",
       "            setTimeout(function() {\n",
       "                var nbb_cell_id = 13;\n",
       "                var nbb_unformatted_code = \"# Displaying routine\\ndef display_images(in_, out, n=1, label=None, count=False):\\n    for N in range(n):\\n        if in_ is not None:\\n            in_pic = in_.data.cpu().view(-1, 28, 28)\\n            plt.figure(figsize=(18, 4))\\n            plt.suptitle(label + ' \\u2013 real test data / reconstructions', color='w', fontsize=16)\\n            for i in range(4):\\n                plt.subplot(1,4,i+1)\\n                plt.imshow(in_pic[i+4*N])\\n                plt.axis('off')\\n        out_pic = out.data.cpu().view(-1, 28, 28)\\n        plt.figure(figsize=(18, 6))\\n        for i in range(4):\\n            plt.subplot(1,4,i+1)\\n            plt.imshow(out_pic[i+4*N])\\n            plt.axis('off')\\n            if count: plt.title(str(4 * N + i), color='w')\";\n",
       "                var nbb_formatted_code = \"# Displaying routine\\ndef display_images(in_, out, n=1, label=None, count=False):\\n    for N in range(n):\\n        if in_ is not None:\\n            in_pic = in_.data.cpu().view(-1, 28, 28)\\n            plt.figure(figsize=(18, 4))\\n            plt.suptitle(\\n                label + \\\" \\u2013 real test data / reconstructions\\\", color=\\\"w\\\", fontsize=16\\n            )\\n            for i in range(4):\\n                plt.subplot(1, 4, i + 1)\\n                plt.imshow(in_pic[i + 4 * N])\\n                plt.axis(\\\"off\\\")\\n        out_pic = out.data.cpu().view(-1, 28, 28)\\n        plt.figure(figsize=(18, 6))\\n        for i in range(4):\\n            plt.subplot(1, 4, i + 1)\\n            plt.imshow(out_pic[i + 4 * N])\\n            plt.axis(\\\"off\\\")\\n            if count:\\n                plt.title(str(4 * N + i), color=\\\"w\\\")\";\n",
       "                var nbb_cells = Jupyter.notebook.get_cells();\n",
       "                for (var i = 0; i < nbb_cells.length; ++i) {\n",
       "                    if (nbb_cells[i].input_prompt_number == nbb_cell_id) {\n",
       "                        if (nbb_cells[i].get_text() == nbb_unformatted_code) {\n",
       "                             nbb_cells[i].set_text(nbb_formatted_code);\n",
       "                        }\n",
       "                        break;\n",
       "                    }\n",
       "                }\n",
       "            }, 500);\n",
       "            "
      ],
      "text/plain": [
       "<IPython.core.display.Javascript object>"
      ]
     },
     "metadata": {},
     "output_type": "display_data"
    }
   ],
   "source": [
    "# Displaying routine\n",
    "def display_images(in_, out, n=1, label=None, count=False):\n",
    "    for N in range(n):\n",
    "        if in_ is not None:\n",
    "            in_pic = in_.data.cpu().view(-1, 28, 28)\n",
    "            plt.figure(figsize=(18, 4))\n",
    "            plt.suptitle(label + ' – real test data / reconstructions', color='w', fontsize=16)\n",
    "            for i in range(4):\n",
    "                plt.subplot(1,4,i+1)\n",
    "                plt.imshow(in_pic[i+4*N])\n",
    "                plt.axis('off')\n",
    "        out_pic = out.data.cpu().view(-1, 28, 28)\n",
    "        plt.figure(figsize=(18, 6))\n",
    "        for i in range(4):\n",
    "            plt.subplot(1,4,i+1)\n",
    "            plt.imshow(out_pic[i+4*N])\n",
    "            plt.axis('off')\n",
    "            if count: plt.title(str(4 * N + i), color='w')\n",
    "\n"
   ]
  },
  {
   "cell_type": "code",
   "execution_count": 15,
   "id": "34e1d558",
   "metadata": {},
   "outputs": [
    {
     "data": {
      "image/png": "[encoded data removed]",
      "text/plain": [
       "<Figure size 1296x432 with 4 Axes>"
      ]
     },
     "metadata": {
      "needs_background": "light"
     },
     "output_type": "display_data"
    },
    {
     "data": {
      "image/png": "[encoded data removed]",
      "text/plain": [
       "<Figure size 1296x432 with 4 Axes>"
      ]
     },
     "metadata": {
      "needs_background": "light"
     },
     "output_type": "display_data"
    },
    {
     "data": {
      "image/png": "[encoded data removed]",
      "text/plain": [
       "<Figure size 1296x432 with 4 Axes>"
      ]
     },
     "metadata": {
      "needs_background": "light"
     },
     "output_type": "display_data"
    },
    {
     "data": {
      "image/png": "[encoded data removed]",
      "text/plain": [
       "<Figure size 1296x432 with 4 Axes>"
      ]
     },
     "metadata": {
      "needs_background": "light"
     },
     "output_type": "display_data"
    },
    {
     "data": {
      "application/javascript": [
       "\n",
       "            setTimeout(function() {\n",
       "                var nbb_cell_id = 15;\n",
       "                var nbb_unformatted_code = \"N = 16\\ndevice = \\\"cuda\\\"\\nz = torch.randn((N, 20)).to(device)\\nsample = exp.state.model.decoder(z)\\ndisplay_images(None, sample, N // 4, count=True)\";\n",
       "                var nbb_formatted_code = \"N = 16\\ndevice = \\\"cuda\\\"\\nz = torch.randn((N, 20)).to(device)\\nsample = exp.state.model.decoder(z)\\ndisplay_images(None, sample, N // 4, count=True)\";\n",
       "                var nbb_cells = Jupyter.notebook.get_cells();\n",
       "                for (var i = 0; i < nbb_cells.length; ++i) {\n",
       "                    if (nbb_cells[i].input_prompt_number == nbb_cell_id) {\n",
       "                        if (nbb_cells[i].get_text() == nbb_unformatted_code) {\n",
       "                             nbb_cells[i].set_text(nbb_formatted_code);\n",
       "                        }\n",
       "                        break;\n",
       "                    }\n",
       "                }\n",
       "            }, 500);\n",
       "            "
      ],
      "text/plain": [
       "<IPython.core.display.Javascript object>"
      ]
     },
     "metadata": {},
     "output_type": "display_data"
    }
   ],
   "source": [
    "N = 16\n",
    "device = \"cuda\"\n",
    "z = torch.randn((N, 20)).to(device)\n",
    "sample = exp.state.model.decoder(z)\n",
    "display_images(None, sample, N // 4, count=True)"
   ]
  }
 ],
 "metadata": {
  "kernelspec": {
   "display_name": "Python 3",
   "language": "python",
   "name": "python3"
  },
  "language_info": {
   "codemirror_mode": {
    "name": "ipython",
    "version": 3
   },
   "file_extension": ".py",
   "mimetype": "text/x-python",
   "name": "python",
   "nbconvert_exporter": "python",
   "pygments_lexer": "ipython3",
   "version": "3.8.5"
  }
 },
 "nbformat": 4,
 "nbformat_minor": 5
}

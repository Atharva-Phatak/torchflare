{
 "cells": [
  {
   "cell_type": "code",
   "execution_count": 1,
   "id": "101e3c79",
   "metadata": {},
   "outputs": [],
   "source": [
    "import torch\n",
    "import torchvision\n",
    "from torch import nn\n",
    "from torch.utils.data import DataLoader\n",
    "from torchvision import transforms\n",
    "from torchvision.datasets import MNIST\n",
    "from matplotlib import pyplot as plt\n",
    "import torch.nn.functional as F\n",
    "from torchflare.experiments import Experiment"
   ]
  },
  {
   "cell_type": "code",
   "execution_count": 2,
   "id": "1ac7a921",
   "metadata": {},
   "outputs": [
    {
     "data": {
      "application/javascript": [
       "\n",
       "            setTimeout(function() {\n",
       "                var nbb_cell_id = 2;\n",
       "                var nbb_unformatted_code = \"%load_ext nb_black\";\n",
       "                var nbb_formatted_code = \"%load_ext nb_black\";\n",
       "                var nbb_cells = Jupyter.notebook.get_cells();\n",
       "                for (var i = 0; i < nbb_cells.length; ++i) {\n",
       "                    if (nbb_cells[i].input_prompt_number == nbb_cell_id) {\n",
       "                        if (nbb_cells[i].get_text() == nbb_unformatted_code) {\n",
       "                             nbb_cells[i].set_text(nbb_formatted_code);\n",
       "                        }\n",
       "                        break;\n",
       "                    }\n",
       "                }\n",
       "            }, 500);\n",
       "            "
      ],
      "text/plain": [
       "<IPython.core.display.Javascript object>"
      ]
     },
     "metadata": {},
     "output_type": "display_data"
    }
   ],
   "source": [
    "%load_ext nb_black"
   ]
  },
  {
   "cell_type": "code",
   "execution_count": 3,
   "id": "4f3a5f2f",
   "metadata": {},
   "outputs": [
    {
     "data": {
      "application/javascript": [
       "\n",
       "            setTimeout(function() {\n",
       "                var nbb_cell_id = 3;\n",
       "                var nbb_unformatted_code = \"train_dataset = MNIST(root='./mnist_data/', train=True, transform=transforms.ToTensor(), download=True)\\ntest_dataset = MNIST(root='./mnist_data/', train=False, transform=transforms.ToTensor(), download=False)\";\n",
       "                var nbb_formatted_code = \"train_dataset = MNIST(\\n    root=\\\"./mnist_data/\\\", train=True, transform=transforms.ToTensor(), download=True\\n)\\ntest_dataset = MNIST(\\n    root=\\\"./mnist_data/\\\", train=False, transform=transforms.ToTensor(), download=False\\n)\";\n",
       "                var nbb_cells = Jupyter.notebook.get_cells();\n",
       "                for (var i = 0; i < nbb_cells.length; ++i) {\n",
       "                    if (nbb_cells[i].input_prompt_number == nbb_cell_id) {\n",
       "                        if (nbb_cells[i].get_text() == nbb_unformatted_code) {\n",
       "                             nbb_cells[i].set_text(nbb_formatted_code);\n",
       "                        }\n",
       "                        break;\n",
       "                    }\n",
       "                }\n",
       "            }, 500);\n",
       "            "
      ],
      "text/plain": [
       "<IPython.core.display.Javascript object>"
      ]
     },
     "metadata": {},
     "output_type": "display_data"
    }
   ],
   "source": [
    "train_dataset = MNIST(root='./mnist_data/', train=True, transform=transforms.ToTensor(), download=True)\n",
    "test_dataset = MNIST(root='./mnist_data/', train=False, transform=transforms.ToTensor(), download=False)\n"
   ]
  },
  {
   "cell_type": "code",
   "execution_count": 4,
   "id": "12db3709",
   "metadata": {},
   "outputs": [
    {
     "data": {
      "application/javascript": [
       "\n",
       "            setTimeout(function() {\n",
       "                var nbb_cell_id = 4;\n",
       "                var nbb_unformatted_code = \"train_dataset, val_dataset = torch.utils.data.random_split(\\n    train_dataset, [50000, 10000]\\n)\";\n",
       "                var nbb_formatted_code = \"train_dataset, val_dataset = torch.utils.data.random_split(\\n    train_dataset, [50000, 10000]\\n)\";\n",
       "                var nbb_cells = Jupyter.notebook.get_cells();\n",
       "                for (var i = 0; i < nbb_cells.length; ++i) {\n",
       "                    if (nbb_cells[i].input_prompt_number == nbb_cell_id) {\n",
       "                        if (nbb_cells[i].get_text() == nbb_unformatted_code) {\n",
       "                             nbb_cells[i].set_text(nbb_formatted_code);\n",
       "                        }\n",
       "                        break;\n",
       "                    }\n",
       "                }\n",
       "            }, 500);\n",
       "            "
      ],
      "text/plain": [
       "<IPython.core.display.Javascript object>"
      ]
     },
     "metadata": {},
     "output_type": "display_data"
    }
   ],
   "source": [
    "train_dataset, val_dataset = torch.utils.data.random_split(\n",
    "    train_dataset, [50000, 10000]\n",
    ")"
   ]
  },
  {
   "cell_type": "code",
   "execution_count": 5,
   "id": "49a9d479",
   "metadata": {},
   "outputs": [
    {
     "data": {
      "application/javascript": [
       "\n",
       "            setTimeout(function() {\n",
       "                var nbb_cell_id = 5;\n",
       "                var nbb_unformatted_code = \"bs = 64\\ntrain_loader = torch.utils.data.DataLoader(\\n    dataset=train_dataset, batch_size=bs, shuffle=True\\n)\\nval_loader = torch.utils.data.DataLoader(\\n    dataset=val_dataset, batch_size=bs, shuffle=True\\n)\\ntest_loader = torch.utils.data.DataLoader(\\n    dataset=test_dataset, batch_size=bs, shuffle=False\\n)\";\n",
       "                var nbb_formatted_code = \"bs = 64\\ntrain_loader = torch.utils.data.DataLoader(\\n    dataset=train_dataset, batch_size=bs, shuffle=True\\n)\\nval_loader = torch.utils.data.DataLoader(\\n    dataset=val_dataset, batch_size=bs, shuffle=True\\n)\\ntest_loader = torch.utils.data.DataLoader(\\n    dataset=test_dataset, batch_size=bs, shuffle=False\\n)\";\n",
       "                var nbb_cells = Jupyter.notebook.get_cells();\n",
       "                for (var i = 0; i < nbb_cells.length; ++i) {\n",
       "                    if (nbb_cells[i].input_prompt_number == nbb_cell_id) {\n",
       "                        if (nbb_cells[i].get_text() == nbb_unformatted_code) {\n",
       "                             nbb_cells[i].set_text(nbb_formatted_code);\n",
       "                        }\n",
       "                        break;\n",
       "                    }\n",
       "                }\n",
       "            }, 500);\n",
       "            "
      ],
      "text/plain": [
       "<IPython.core.display.Javascript object>"
      ]
     },
     "metadata": {},
     "output_type": "display_data"
    }
   ],
   "source": [
    "bs = 64\n",
    "train_loader = torch.utils.data.DataLoader(\n",
    "    dataset=train_dataset, batch_size=bs, shuffle=True\n",
    ")\n",
    "val_loader = torch.utils.data.DataLoader(\n",
    "    dataset=val_dataset, batch_size=bs, shuffle=True\n",
    ")\n",
    "test_loader = torch.utils.data.DataLoader(\n",
    "    dataset=test_dataset, batch_size=bs, shuffle=False\n",
    ")"
   ]
  },
  {
   "cell_type": "code",
   "execution_count": 10,
   "id": "bf66dc27",
   "metadata": {},
   "outputs": [
    {
     "data": {
      "application/javascript": [
       "\n",
       "            setTimeout(function() {\n",
       "                var nbb_cell_id = 10;\n",
       "                var nbb_unformatted_code = \"class VAE(nn.Module):\\n    def __init__(self , d):\\n        super().__init__()\\n        self.d = d\\n        self.encoder = nn.Sequential(\\n            nn.Linear(784, self.d ** 2), nn.ReLU(), nn.Linear(self.d ** 2, self.d * 2)\\n        )\\n\\n        self.decoder = nn.Sequential(\\n            nn.Linear(self.d, self.d ** 2),\\n            nn.ReLU(),\\n            nn.Linear(self.d ** 2, 784),\\n            nn.Sigmoid(),\\n        )\\n\\n    def reparameterise(self, mu, logvar):\\n        if self.training:\\n            std = logvar.mul(0.5).exp_()\\n            eps = std.data.new(std.size()).normal_()\\n            return eps.mul(std).add_(mu)\\n        else:\\n            return mu\\n\\n    def forward(self, x):\\n        mu_logvar = self.encoder(x.view(-1, 784)).view(-1, 2, self.d)\\n        mu = mu_logvar[:, 0, :]\\n        logvar = mu_logvar[:, 1, :]\\n        z = self.reparameterise(mu, logvar)\\n        return self.decoder(z), mu, logvar\";\n",
       "                var nbb_formatted_code = \"class VAE(nn.Module):\\n    def __init__(self, d):\\n        super().__init__()\\n        self.d = d\\n        self.encoder = nn.Sequential(\\n            nn.Linear(784, self.d ** 2), nn.ReLU(), nn.Linear(self.d ** 2, self.d * 2)\\n        )\\n\\n        self.decoder = nn.Sequential(\\n            nn.Linear(self.d, self.d ** 2),\\n            nn.ReLU(),\\n            nn.Linear(self.d ** 2, 784),\\n            nn.Sigmoid(),\\n        )\\n\\n    def reparameterise(self, mu, logvar):\\n        if self.training:\\n            std = logvar.mul(0.5).exp_()\\n            eps = std.data.new(std.size()).normal_()\\n            return eps.mul(std).add_(mu)\\n        else:\\n            return mu\\n\\n    def forward(self, x):\\n        mu_logvar = self.encoder(x.view(-1, 784)).view(-1, 2, self.d)\\n        mu = mu_logvar[:, 0, :]\\n        logvar = mu_logvar[:, 1, :]\\n        z = self.reparameterise(mu, logvar)\\n        return self.decoder(z), mu, logvar\";\n",
       "                var nbb_cells = Jupyter.notebook.get_cells();\n",
       "                for (var i = 0; i < nbb_cells.length; ++i) {\n",
       "                    if (nbb_cells[i].input_prompt_number == nbb_cell_id) {\n",
       "                        if (nbb_cells[i].get_text() == nbb_unformatted_code) {\n",
       "                             nbb_cells[i].set_text(nbb_formatted_code);\n",
       "                        }\n",
       "                        break;\n",
       "                    }\n",
       "                }\n",
       "            }, 500);\n",
       "            "
      ],
      "text/plain": [
       "<IPython.core.display.Javascript object>"
      ]
     },
     "metadata": {},
     "output_type": "display_data"
    }
   ],
   "source": [
    "class VAE(nn.Module):\n",
    "    def __init__(self, d):\n",
    "        super().__init__()\n",
    "        self.d = d\n",
    "        self.encoder = nn.Sequential(\n",
    "            nn.Linear(784, self.d ** 2), nn.ReLU(), nn.Linear(self.d ** 2, self.d * 2)\n",
    "        )\n",
    "\n",
    "        self.decoder = nn.Sequential(\n",
    "            nn.Linear(self.d, self.d ** 2),\n",
    "            nn.ReLU(),\n",
    "            nn.Linear(self.d ** 2, 784),\n",
    "            nn.Sigmoid(),\n",
    "        )\n",
    "\n",
    "    def reparameterise(self, mu, logvar):\n",
    "        if self.training:\n",
    "            std = logvar.mul(0.5).exp_()\n",
    "            eps = std.data.new(std.size()).normal_()\n",
    "            return eps.mul(std).add_(mu)\n",
    "        else:\n",
    "            return mu\n",
    "\n",
    "    def forward(self, x):\n",
    "        mu_logvar = self.encoder(x.view(-1, 784)).view(-1, 2, self.d)\n",
    "        mu = mu_logvar[:, 0, :]\n",
    "        logvar = mu_logvar[:, 1, :]\n",
    "        z = self.reparameterise(mu, logvar)\n",
    "        return self.decoder(z), mu, logvar"
   ]
  },
  {
   "cell_type": "code",
   "execution_count": 11,
   "id": "0da8d47a",
   "metadata": {},
   "outputs": [
    {
     "data": {
      "application/javascript": [
       "\n",
       "            setTimeout(function() {\n",
       "                var nbb_cell_id = 11;\n",
       "                var nbb_unformatted_code = \"# Reconstruction + \\u03b2 * KL divergence losses summed over all elements and batch\\n\\ndef loss_function(x_hat, x, mu, logvar, \\u03b2=1):\\n    BCE = nn.functional.binary_cross_entropy(\\n        x_hat, x.view(-1, 784), reduction='sum'\\n    )\\n    KLD = 0.5 * torch.sum(logvar.exp() - logvar - 1 + mu.pow(2))\\n\\n    return BCE + \\u03b2 * KLD\";\n",
       "                var nbb_formatted_code = \"# Reconstruction + \\u03b2 * KL divergence losses summed over all elements and batch\\n\\n\\ndef loss_function(x_hat, x, mu, logvar, \\u03b2=1):\\n    BCE = nn.functional.binary_cross_entropy(x_hat, x.view(-1, 784), reduction=\\\"sum\\\")\\n    KLD = 0.5 * torch.sum(logvar.exp() - logvar - 1 + mu.pow(2))\\n\\n    return BCE + \\u03b2 * KLD\";\n",
       "                var nbb_cells = Jupyter.notebook.get_cells();\n",
       "                for (var i = 0; i < nbb_cells.length; ++i) {\n",
       "                    if (nbb_cells[i].input_prompt_number == nbb_cell_id) {\n",
       "                        if (nbb_cells[i].get_text() == nbb_unformatted_code) {\n",
       "                             nbb_cells[i].set_text(nbb_formatted_code);\n",
       "                        }\n",
       "                        break;\n",
       "                    }\n",
       "                }\n",
       "            }, 500);\n",
       "            "
      ],
      "text/plain": [
       "<IPython.core.display.Javascript object>"
      ]
     },
     "metadata": {},
     "output_type": "display_data"
    }
   ],
   "source": [
    "# Reconstruction + β * KL divergence losses summed over all elements and batch\n",
    "\n",
    "def loss_function(x_hat, x, mu, logvar, β=1):\n",
    "    BCE = nn.functional.binary_cross_entropy(\n",
    "        x_hat, x.view(-1, 784), reduction='sum'\n",
    "    )\n",
    "    KLD = 0.5 * torch.sum(logvar.exp() - logvar - 1 + mu.pow(2))\n",
    "\n",
    "    return BCE + β * KLD\n",
    "\n"
   ]
  },
  {
   "cell_type": "code",
   "execution_count": 12,
   "id": "f47ea905",
   "metadata": {},
   "outputs": [
    {
     "data": {
      "application/javascript": [
       "\n",
       "            setTimeout(function() {\n",
       "                var nbb_cell_id = 12;\n",
       "                var nbb_unformatted_code = \"class VAEExperiment(Experiment):\\n    def __init__(self, **kwargs):\\n        super(VAEExperiment, self).__init__(**kwargs)\\n\\n    def compute_loss(self):\\n\\n        x_hat, mu, logvar = self.preds\\n        self.loss = self.criterion(x_hat, self.x, mu, logvar)\";\n",
       "                var nbb_formatted_code = \"class VAEExperiment(Experiment):\\n    def __init__(self, **kwargs):\\n        super(VAEExperiment, self).__init__(**kwargs)\\n\\n    def compute_loss(self):\\n\\n        x_hat, mu, logvar = self.preds\\n        self.loss = self.criterion(x_hat, self.x, mu, logvar)\";\n",
       "                var nbb_cells = Jupyter.notebook.get_cells();\n",
       "                for (var i = 0; i < nbb_cells.length; ++i) {\n",
       "                    if (nbb_cells[i].input_prompt_number == nbb_cell_id) {\n",
       "                        if (nbb_cells[i].get_text() == nbb_unformatted_code) {\n",
       "                             nbb_cells[i].set_text(nbb_formatted_code);\n",
       "                        }\n",
       "                        break;\n",
       "                    }\n",
       "                }\n",
       "            }, 500);\n",
       "            "
      ],
      "text/plain": [
       "<IPython.core.display.Javascript object>"
      ]
     },
     "metadata": {},
     "output_type": "display_data"
    }
   ],
   "source": [
    "class VAEExperiment(Experiment):\n",
    "    def __init__(self, **kwargs):\n",
    "        super(VAEExperiment, self).__init__(**kwargs)\n",
    "\n",
    "    def compute_loss(self):\n",
    "\n",
    "        x_hat, mu, logvar = self.preds\n",
    "        self.loss = self.criterion(x_hat, self.x, mu, logvar)"
   ]
  },
  {
   "cell_type": "code",
   "execution_count": 13,
   "id": "0a8ca9ba",
   "metadata": {},
   "outputs": [
    {
     "data": {
      "application/javascript": [
       "\n",
       "            setTimeout(function() {\n",
       "                var nbb_cell_id = 13;\n",
       "                var nbb_unformatted_code = \"exp = VAEExperiment(num_epochs=30, fp16=False, device=\\\"cuda\\\", seed=42)\";\n",
       "                var nbb_formatted_code = \"exp = VAEExperiment(num_epochs=30, fp16=False, device=\\\"cuda\\\", seed=42)\";\n",
       "                var nbb_cells = Jupyter.notebook.get_cells();\n",
       "                for (var i = 0; i < nbb_cells.length; ++i) {\n",
       "                    if (nbb_cells[i].input_prompt_number == nbb_cell_id) {\n",
       "                        if (nbb_cells[i].get_text() == nbb_unformatted_code) {\n",
       "                             nbb_cells[i].set_text(nbb_formatted_code);\n",
       "                        }\n",
       "                        break;\n",
       "                    }\n",
       "                }\n",
       "            }, 500);\n",
       "            "
      ],
      "text/plain": [
       "<IPython.core.display.Javascript object>"
      ]
     },
     "metadata": {},
     "output_type": "display_data"
    }
   ],
   "source": [
    "exp = VAEExperiment(num_epochs=30, fp16=False, device=\"cuda\", seed=42)"
   ]
  },
  {
   "cell_type": "code",
   "execution_count": 15,
   "id": "5c61d7ee",
   "metadata": {},
   "outputs": [
    {
     "data": {
      "application/javascript": [
       "\n",
       "            setTimeout(function() {\n",
       "                var nbb_cell_id = 15;\n",
       "                var nbb_unformatted_code = \"exp.compile_experiment(\\n    module=VAE,\\n    module_params = {\\\"d\\\" : 20},\\n    optimizer=\\\"Adam\\\",\\n    optimizer_params={\\\"lr\\\": 3e-3},\\n    criterion=loss_function,\\n)\";\n",
       "                var nbb_formatted_code = \"exp.compile_experiment(\\n    module=VAE,\\n    module_params={\\\"d\\\": 20},\\n    optimizer=\\\"Adam\\\",\\n    optimizer_params={\\\"lr\\\": 3e-3},\\n    criterion=loss_function,\\n)\";\n",
       "                var nbb_cells = Jupyter.notebook.get_cells();\n",
       "                for (var i = 0; i < nbb_cells.length; ++i) {\n",
       "                    if (nbb_cells[i].input_prompt_number == nbb_cell_id) {\n",
       "                        if (nbb_cells[i].get_text() == nbb_unformatted_code) {\n",
       "                             nbb_cells[i].set_text(nbb_formatted_code);\n",
       "                        }\n",
       "                        break;\n",
       "                    }\n",
       "                }\n",
       "            }, 500);\n",
       "            "
      ],
      "text/plain": [
       "<IPython.core.display.Javascript object>"
      ]
     },
     "metadata": {},
     "output_type": "display_data"
    }
   ],
   "source": [
    "exp.compile_experiment(\n",
    "    module=VAE,\n",
    "    module_params={\"d\": 20},\n",
    "    optimizer=\"Adam\",\n",
    "    optimizer_params={\"lr\": 3e-3},\n",
    "    criterion=loss_function,\n",
    ")"
   ]
  },
  {
   "cell_type": "code",
   "execution_count": 16,
   "id": "3c4128c5",
   "metadata": {},
   "outputs": [
    {
     "name": "stdout",
     "output_type": "stream",
     "text": [
      "\n",
      "Epoch: 1/30\n",
      "Train: 782/782 [=========================]- 12s 16ms/step - train_loss: 8767.5388\n",
      "Valid: 157/157 [=========================]- 1s 5ms/step - val_loss: 6957.6839\n",
      "\n",
      "Epoch: 2/30\n",
      "Train: 782/782 [=========================]- 6s 7ms/step - train_loss: 7295.8329\n",
      "Valid: 157/157 [=========================]- 1s 6ms/step - val_loss: 6658.1921\n",
      "\n",
      "Epoch: 3/30\n",
      "Train: 782/782 [=========================]- 6s 8ms/step - train_loss: 7112.5864\n",
      "Valid: 157/157 [=========================]- 1s 5ms/step - val_loss: 6554.8810\n",
      "\n",
      "Epoch: 4/30\n",
      "Train: 782/782 [=========================]- 6s 7ms/step - train_loss: 7030.2678\n",
      "Valid: 157/157 [=========================]- 1s 5ms/step - val_loss: 6437.6711\n",
      "\n",
      "Epoch: 5/30\n",
      "Train: 782/782 [=========================]- 6s 7ms/step - train_loss: 6974.3846\n",
      "Valid: 157/157 [=========================]- 1s 5ms/step - val_loss: 6410.1305\n",
      "\n",
      "Epoch: 6/30\n",
      "Train: 782/782 [=========================]- 5s 7ms/step - train_loss: 6932.6089\n",
      "Valid: 157/157 [=========================]- 1s 5ms/step - val_loss: 6258.6379\n",
      "\n",
      "Epoch: 7/30\n",
      "Train: 782/782 [=========================]- 5s 7ms/step - train_loss: 6900.5674\n",
      "Valid: 157/157 [=========================]- 1s 5ms/step - val_loss: 6346.4173\n",
      "\n",
      "Epoch: 8/30\n",
      "Train: 782/782 [=========================]- 5s 7ms/step - train_loss: 6874.8139\n",
      "Valid: 157/157 [=========================]- 1s 5ms/step - val_loss: 6352.7395\n",
      "\n",
      "Epoch: 9/30\n",
      "Train: 782/782 [=========================]- 6s 8ms/step - train_loss: 6850.6586\n",
      "Valid: 157/157 [=========================]- 1s 5ms/step - val_loss: 6314.1171\n",
      "\n",
      "Epoch: 10/30\n",
      "Train: 782/782 [=========================]- 6s 7ms/step - train_loss: 6833.5584\n",
      "Valid: 157/157 [=========================]- 1s 5ms/step - val_loss: 6302.4851\n",
      "\n",
      "Epoch: 11/30\n",
      "Train: 782/782 [=========================]- 6s 7ms/step - train_loss: 6819.8642\n",
      "Valid: 157/157 [=========================]- 1s 5ms/step - val_loss: 6343.9776\n",
      "\n",
      "Epoch: 12/30\n",
      "Train: 782/782 [=========================]- 6s 7ms/step - train_loss: 6803.0114\n",
      "Valid: 157/157 [=========================]- 1s 5ms/step - val_loss: 6312.7076\n",
      "\n",
      "Epoch: 13/30\n",
      "Train: 782/782 [=========================]- 5s 7ms/step - train_loss: 6796.2009\n",
      "Valid: 157/157 [=========================]- 1s 5ms/step - val_loss: 6289.7628\n",
      "\n",
      "Epoch: 14/30\n",
      "Train: 782/782 [=========================]- 6s 7ms/step - train_loss: 6783.4018\n",
      "Valid: 157/157 [=========================]- 1s 5ms/step - val_loss: 6261.2795\n",
      "\n",
      "Epoch: 15/30\n",
      "Train: 782/782 [=========================]- 6s 7ms/step - train_loss: 6774.8480\n",
      "Valid: 157/157 [=========================]- 1s 5ms/step - val_loss: 6277.4080\n",
      "\n",
      "Epoch: 16/30\n",
      "Train: 782/782 [=========================]- 6s 7ms/step - train_loss: 6764.7151\n",
      "Valid: 157/157 [=========================]- 1s 6ms/step - val_loss: 6309.2719\n",
      "\n",
      "Epoch: 17/30\n",
      "Train: 782/782 [=========================]- 6s 7ms/step - train_loss: 6761.9602\n",
      "Valid: 157/157 [=========================]- 1s 6ms/step - val_loss: 6303.2248\n",
      "\n",
      "Epoch: 18/30\n",
      "Train: 782/782 [=========================]- 6s 7ms/step - train_loss: 6752.2642\n",
      "Valid: 157/157 [=========================]- 1s 5ms/step - val_loss: 6240.3006\n",
      "\n",
      "Epoch: 19/30\n",
      "Train: 782/782 [=========================]- 6s 7ms/step - train_loss: 6746.0860\n",
      "Valid: 157/157 [=========================]- 1s 6ms/step - val_loss: 6195.7342\n",
      "\n",
      "Epoch: 20/30\n",
      "Train: 782/782 [=========================]- 6s 8ms/step - train_loss: 6736.5464\n",
      "Valid: 157/157 [=========================]- 1s 5ms/step - val_loss: 6237.0223\n",
      "\n",
      "Epoch: 21/30\n",
      "Train: 782/782 [=========================]- 6s 7ms/step - train_loss: 6736.3253\n",
      "Valid: 157/157 [=========================]- 1s 6ms/step - val_loss: 6291.0874\n",
      "\n",
      "Epoch: 22/30\n",
      "Train: 782/782 [=========================]- 6s 8ms/step - train_loss: 6725.8444\n",
      "Valid: 157/157 [=========================]- 1s 6ms/step - val_loss: 6273.8410\n",
      "\n",
      "Epoch: 23/30\n",
      "Train: 782/782 [=========================]- 6s 7ms/step - train_loss: 6726.7907\n",
      "Valid: 157/157 [=========================]- 1s 6ms/step - val_loss: 6234.4779\n",
      "\n",
      "Epoch: 24/30\n",
      "Train: 782/782 [=========================]- 6s 8ms/step - train_loss: 6718.7790\n",
      "Valid: 157/157 [=========================]- 1s 6ms/step - val_loss: 6231.2688\n",
      "\n",
      "Epoch: 25/30\n",
      "Train: 782/782 [=========================]- 6s 8ms/step - train_loss: 6714.5619\n",
      "Valid: 157/157 [=========================]- 1s 6ms/step - val_loss: 6243.9407\n",
      "\n",
      "Epoch: 26/30\n",
      "Train: 782/782 [=========================]- 6s 8ms/step - train_loss: 6709.2548\n",
      "Valid: 157/157 [=========================]- 1s 6ms/step - val_loss: 6256.7454\n",
      "\n",
      "Epoch: 27/30\n",
      "Train: 782/782 [=========================]- 7s 8ms/step - train_loss: 6705.8744\n",
      "Valid: 157/157 [=========================]- 1s 6ms/step - val_loss: 6250.5205\n",
      "\n",
      "Epoch: 28/30\n",
      "Train: 782/782 [=========================]- 6s 8ms/step - train_loss: 6700.7607\n",
      "Valid: 157/157 [=========================]- 1s 6ms/step - val_loss: 6217.2388\n",
      "\n",
      "Epoch: 29/30\n",
      "Train: 782/782 [=========================]- 6s 8ms/step - train_loss: 6701.1918\n",
      "Valid: 157/157 [=========================]- 1s 6ms/step - val_loss: 6207.7717\n",
      "\n",
      "Epoch: 30/30\n",
      "Train: 782/782 [=========================]- 6s 8ms/step - train_loss: 6693.7459\n",
      "Valid: 157/157 [=========================]- 1s 6ms/step - val_loss: 6187.5118\n"
     ]
    },
    {
     "data": {
      "application/javascript": [
       "\n",
       "            setTimeout(function() {\n",
       "                var nbb_cell_id = 16;\n",
       "                var nbb_unformatted_code = \"exp.fit_loader(train_loader, val_loader)\";\n",
       "                var nbb_formatted_code = \"exp.fit_loader(train_loader, val_loader)\";\n",
       "                var nbb_cells = Jupyter.notebook.get_cells();\n",
       "                for (var i = 0; i < nbb_cells.length; ++i) {\n",
       "                    if (nbb_cells[i].input_prompt_number == nbb_cell_id) {\n",
       "                        if (nbb_cells[i].get_text() == nbb_unformatted_code) {\n",
       "                             nbb_cells[i].set_text(nbb_formatted_code);\n",
       "                        }\n",
       "                        break;\n",
       "                    }\n",
       "                }\n",
       "            }, 500);\n",
       "            "
      ],
      "text/plain": [
       "<IPython.core.display.Javascript object>"
      ]
     },
     "metadata": {},
     "output_type": "display_data"
    }
   ],
   "source": [
    "exp.fit_loader(train_loader, val_loader)"
   ]
  },
  {
   "cell_type": "code",
   "execution_count": 17,
   "id": "bd709a13",
   "metadata": {},
   "outputs": [
    {
     "data": {
      "application/javascript": [
       "\n",
       "            setTimeout(function() {\n",
       "                var nbb_cell_id = 17;\n",
       "                var nbb_unformatted_code = \"# Displaying routine\\ndef display_images(in_, out, n=1, label=None, count=False):\\n    for N in range(n):\\n        if in_ is not None:\\n            in_pic = in_.data.cpu().view(-1, 28, 28)\\n            plt.figure(figsize=(18, 4))\\n            plt.suptitle(label + ' \\u2013 real test data / reconstructions', color='w', fontsize=16)\\n            for i in range(4):\\n                plt.subplot(1,4,i+1)\\n                plt.imshow(in_pic[i+4*N])\\n                plt.axis('off')\\n        out_pic = out.data.cpu().view(-1, 28, 28)\\n        plt.figure(figsize=(18, 6))\\n        for i in range(4):\\n            plt.subplot(1,4,i+1)\\n            plt.imshow(out_pic[i+4*N])\\n            plt.axis('off')\\n            if count: plt.title(str(4 * N + i), color='w')\";\n",
       "                var nbb_formatted_code = \"# Displaying routine\\ndef display_images(in_, out, n=1, label=None, count=False):\\n    for N in range(n):\\n        if in_ is not None:\\n            in_pic = in_.data.cpu().view(-1, 28, 28)\\n            plt.figure(figsize=(18, 4))\\n            plt.suptitle(\\n                label + \\\" \\u2013 real test data / reconstructions\\\", color=\\\"w\\\", fontsize=16\\n            )\\n            for i in range(4):\\n                plt.subplot(1, 4, i + 1)\\n                plt.imshow(in_pic[i + 4 * N])\\n                plt.axis(\\\"off\\\")\\n        out_pic = out.data.cpu().view(-1, 28, 28)\\n        plt.figure(figsize=(18, 6))\\n        for i in range(4):\\n            plt.subplot(1, 4, i + 1)\\n            plt.imshow(out_pic[i + 4 * N])\\n            plt.axis(\\\"off\\\")\\n            if count:\\n                plt.title(str(4 * N + i), color=\\\"w\\\")\";\n",
       "                var nbb_cells = Jupyter.notebook.get_cells();\n",
       "                for (var i = 0; i < nbb_cells.length; ++i) {\n",
       "                    if (nbb_cells[i].input_prompt_number == nbb_cell_id) {\n",
       "                        if (nbb_cells[i].get_text() == nbb_unformatted_code) {\n",
       "                             nbb_cells[i].set_text(nbb_formatted_code);\n",
       "                        }\n",
       "                        break;\n",
       "                    }\n",
       "                }\n",
       "            }, 500);\n",
       "            "
      ],
      "text/plain": [
       "<IPython.core.display.Javascript object>"
      ]
     },
     "metadata": {},
     "output_type": "display_data"
    }
   ],
   "source": [
    "# Displaying routine\n",
    "def display_images(in_, out, n=1, label=None, count=False):\n",
    "    for N in range(n):\n",
    "        if in_ is not None:\n",
    "            in_pic = in_.data.cpu().view(-1, 28, 28)\n",
    "            plt.figure(figsize=(18, 4))\n",
    "            plt.suptitle(label + ' – real test data / reconstructions', color='w', fontsize=16)\n",
    "            for i in range(4):\n",
    "                plt.subplot(1,4,i+1)\n",
    "                plt.imshow(in_pic[i+4*N])\n",
    "                plt.axis('off')\n",
    "        out_pic = out.data.cpu().view(-1, 28, 28)\n",
    "        plt.figure(figsize=(18, 6))\n",
    "        for i in range(4):\n",
    "            plt.subplot(1,4,i+1)\n",
    "            plt.imshow(out_pic[i+4*N])\n",
    "            plt.axis('off')\n",
    "            if count: plt.title(str(4 * N + i), color='w')\n",
    "\n"
   ]
  },
  {
   "cell_type": "code",
   "execution_count": 18,
   "id": "34e1d558",
   "metadata": {},
   "outputs": [
    {
     "data": {
      "image/png": "[encoded data removed]",
      "text/plain": [
       "<Figure size 1296x432 with 4 Axes>"
      ]
     },
     "metadata": {
      "needs_background": "light"
     },
     "output_type": "display_data"
    },
    {
     "data": {
      "image/png": "[encoded data removed]",
      "text/plain": [
       "<Figure size 1296x432 with 4 Axes>"
      ]
     },
     "metadata": {
      "needs_background": "light"
     },
     "output_type": "display_data"
    },
    {
     "data": {
      "image/png": "[encoded data removed]",
      "text/plain": [
       "<Figure size 1296x432 with 4 Axes>"
      ]
     },
     "metadata": {
      "needs_background": "light"
     },
     "output_type": "display_data"
    },
    {
     "data": {
      "image/png": "[encoded data removed]",
      "text/plain": [
       "<Figure size 1296x432 with 4 Axes>"
      ]
     },
     "metadata": {
      "needs_background": "light"
     },
     "output_type": "display_data"
    },
    {
     "data": {
      "application/javascript": [
       "\n",
       "            setTimeout(function() {\n",
       "                var nbb_cell_id = 18;\n",
       "                var nbb_unformatted_code = \"N = 16\\ndevice = \\\"cuda\\\"\\nz = torch.randn((N, d)).to(device)\\nsample = exp.model.decoder(z)\\ndisplay_images(None, sample, N // 4, count=True)\";\n",
       "                var nbb_formatted_code = \"N = 16\\ndevice = \\\"cuda\\\"\\nz = torch.randn((N, d)).to(device)\\nsample = exp.model.decoder(z)\\ndisplay_images(None, sample, N // 4, count=True)\";\n",
       "                var nbb_cells = Jupyter.notebook.get_cells();\n",
       "                for (var i = 0; i < nbb_cells.length; ++i) {\n",
       "                    if (nbb_cells[i].input_prompt_number == nbb_cell_id) {\n",
       "                        if (nbb_cells[i].get_text() == nbb_unformatted_code) {\n",
       "                             nbb_cells[i].set_text(nbb_formatted_code);\n",
       "                        }\n",
       "                        break;\n",
       "                    }\n",
       "                }\n",
       "            }, 500);\n",
       "            "
      ],
      "text/plain": [
       "<IPython.core.display.Javascript object>"
      ]
     },
     "metadata": {},
     "output_type": "display_data"
    }
   ],
   "source": [
    "N = 16\n",
    "device = \"cuda\"\n",
    "z = torch.randn((N, d)).to(device)\n",
    "sample = exp.model.decoder(z)\n",
    "display_images(None, sample, N // 4, count=True)"
   ]
  }
 ],
 "metadata": {
  "kernelspec": {
   "display_name": "Python 3",
   "language": "python",
   "name": "python3"
  },
  "language_info": {
   "codemirror_mode": {
    "name": "ipython",
    "version": 3
   },
   "file_extension": ".py",
   "mimetype": "text/x-python",
   "name": "python",
   "nbconvert_exporter": "python",
   "pygments_lexer": "ipython3",
   "version": "3.8.5"
  }
 },
 "nbformat": 4,
 "nbformat_minor": 5
}

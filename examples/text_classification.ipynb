{
 "cells": [
  {
   "cell_type": "markdown",
   "metadata": {},
   "source": [
    "## Text Classification using torchflare.\n",
    "***\n",
    "* Dataset: https://www.kaggle.com/columbine/imdb-dataset-sentiment-analysis-in-csv-format"
   ]
  },
  {
   "cell_type": "code",
   "execution_count": null,
   "metadata": {},
   "outputs": [],
   "source": [
    "import pandas as pd\n",
    "import numpy as np\n",
    "\n",
    "import torch\n",
    "import torch.nn as nn\n",
    "\n",
    "from sklearn.model_selection import train_test_split\n",
    "import transformers\n",
    "\n",
    "import torchflare.metrics as metrics\n",
    "import torchflare.criterion as crit\n",
    "import torchflare.callbacks as cbs\n",
    "from torchflare.datasets import SimpleDataloader\n",
    "from torchflare.experiments import Experiment"
   ]
  },
  {
   "cell_type": "code",
   "execution_count": 2,
   "metadata": {},
   "outputs": [
    {
     "data": {
      "application/javascript": [
       "\n",
       "            setTimeout(function() {\n",
       "                var nbb_cell_id = 2;\n",
       "                var nbb_unformatted_code = \"%load_ext nb_black\";\n",
       "                var nbb_formatted_code = \"%load_ext nb_black\";\n",
       "                var nbb_cells = Jupyter.notebook.get_cells();\n",
       "                for (var i = 0; i < nbb_cells.length; ++i) {\n",
       "                    if (nbb_cells[i].input_prompt_number == nbb_cell_id) {\n",
       "                        if (nbb_cells[i].get_text() == nbb_unformatted_code) {\n",
       "                             nbb_cells[i].set_text(nbb_formatted_code);\n",
       "                        }\n",
       "                        break;\n",
       "                    }\n",
       "                }\n",
       "            }, 500);\n",
       "            "
      ],
      "text/plain": [
       "<IPython.core.display.Javascript object>"
      ]
     },
     "metadata": {},
     "output_type": "display_data"
    }
   ],
   "source": [
    "%load_ext nb_black"
   ]
  },
  {
   "cell_type": "code",
   "execution_count": 3,
   "metadata": {},
   "outputs": [
    {
     "data": {
      "application/javascript": [
       "\n",
       "            setTimeout(function() {\n",
       "                var nbb_cell_id = 3;\n",
       "                var nbb_unformatted_code = \"df = pd.read_csv(\\\"Train.csv\\\")\";\n",
       "                var nbb_formatted_code = \"df = pd.read_csv(\\\"Train.csv\\\")\";\n",
       "                var nbb_cells = Jupyter.notebook.get_cells();\n",
       "                for (var i = 0; i < nbb_cells.length; ++i) {\n",
       "                    if (nbb_cells[i].input_prompt_number == nbb_cell_id) {\n",
       "                        if (nbb_cells[i].get_text() == nbb_unformatted_code) {\n",
       "                             nbb_cells[i].set_text(nbb_formatted_code);\n",
       "                        }\n",
       "                        break;\n",
       "                    }\n",
       "                }\n",
       "            }, 500);\n",
       "            "
      ],
      "text/plain": [
       "<IPython.core.display.Javascript object>"
      ]
     },
     "metadata": {},
     "output_type": "display_data"
    }
   ],
   "source": [
    "df = pd.read_csv(\"Train.csv\")"
   ]
  },
  {
   "cell_type": "code",
   "execution_count": 5,
   "metadata": {},
   "outputs": [
    {
     "data": {
      "application/javascript": [
       "\n",
       "            setTimeout(function() {\n",
       "                var nbb_cell_id = 5;\n",
       "                var nbb_unformatted_code = \"df.text = df.text.apply(lambda x: x.lower())\\ntrain_df, valid_df = train_test_split(df, test_size=0.3)\";\n",
       "                var nbb_formatted_code = \"df.text = df.text.apply(lambda x: x.lower())\\ntrain_df, valid_df = train_test_split(df, test_size=0.3)\";\n",
       "                var nbb_cells = Jupyter.notebook.get_cells();\n",
       "                for (var i = 0; i < nbb_cells.length; ++i) {\n",
       "                    if (nbb_cells[i].input_prompt_number == nbb_cell_id) {\n",
       "                        if (nbb_cells[i].get_text() == nbb_unformatted_code) {\n",
       "                             nbb_cells[i].set_text(nbb_formatted_code);\n",
       "                        }\n",
       "                        break;\n",
       "                    }\n",
       "                }\n",
       "            }, 500);\n",
       "            "
      ],
      "text/plain": [
       "<IPython.core.display.Javascript object>"
      ]
     },
     "metadata": {},
     "output_type": "display_data"
    }
   ],
   "source": [
    "df.text = df.text.apply(lambda x: x.lower())\n",
    "train_df, valid_df = train_test_split(df, test_size=0.3)"
   ]
  },
  {
   "cell_type": "code",
   "execution_count": 6,
   "metadata": {},
   "outputs": [
    {
     "data": {
      "application/javascript": [
       "\n",
       "            setTimeout(function() {\n",
       "                var nbb_cell_id = 6;\n",
       "                var nbb_unformatted_code = \"tokenizer = transformers.AutoTokenizer.from_pretrained(\\\"prajjwal1/bert-tiny\\\")\\n\\ntrain_dl = SimpleDataloader.text_data_from_df(\\n    df=train_df, input_col=\\\"text\\\", label_cols=\\\"label\\\", tokenizer=tokenizer, max_len=128\\n).get_loader(batch_size=16, shuffle=True, num_workers=0)\\n\\nvalid_dl = SimpleDataloader.text_data_from_df(\\n    df=valid_df, input_col=\\\"text\\\", label_cols=\\\"label\\\", tokenizer=tokenizer, max_len=128\\n).get_loader(batch_size=16, shuffle=False)\";\n",
       "                var nbb_formatted_code = \"tokenizer = transformers.AutoTokenizer.from_pretrained(\\\"prajjwal1/bert-tiny\\\")\\n\\ntrain_dl = SimpleDataloader.text_data_from_df(\\n    df=train_df, input_col=\\\"text\\\", label_cols=\\\"label\\\", tokenizer=tokenizer, max_len=128\\n).get_loader(batch_size=16, shuffle=True, num_workers=0)\\n\\nvalid_dl = SimpleDataloader.text_data_from_df(\\n    df=valid_df, input_col=\\\"text\\\", label_cols=\\\"label\\\", tokenizer=tokenizer, max_len=128\\n).get_loader(batch_size=16, shuffle=False)\";\n",
       "                var nbb_cells = Jupyter.notebook.get_cells();\n",
       "                for (var i = 0; i < nbb_cells.length; ++i) {\n",
       "                    if (nbb_cells[i].input_prompt_number == nbb_cell_id) {\n",
       "                        if (nbb_cells[i].get_text() == nbb_unformatted_code) {\n",
       "                             nbb_cells[i].set_text(nbb_formatted_code);\n",
       "                        }\n",
       "                        break;\n",
       "                    }\n",
       "                }\n",
       "            }, 500);\n",
       "            "
      ],
      "text/plain": [
       "<IPython.core.display.Javascript object>"
      ]
     },
     "metadata": {},
     "output_type": "display_data"
    }
   ],
   "source": [
    "tokenizer = transformers.AutoTokenizer.from_pretrained(\"prajjwal1/bert-tiny\")\n",
    "\n",
    "train_dl = SimpleDataloader.text_data_from_df(\n",
    "    df=train_df, input_col=\"text\", label_cols=\"label\", tokenizer=tokenizer, max_len=128\n",
    ").get_loader(batch_size=16, shuffle=True, num_workers=0)\n",
    "\n",
    "valid_dl = SimpleDataloader.text_data_from_df(\n",
    "    df=valid_df, input_col=\"text\", label_cols=\"label\", tokenizer=tokenizer, max_len=128\n",
    ").get_loader(batch_size=16, shuffle=False)"
   ]
  },
  {
   "cell_type": "code",
   "execution_count": 23,
   "metadata": {},
   "outputs": [
    {
     "data": {
      "application/javascript": [
       "\n",
       "            setTimeout(function() {\n",
       "                var nbb_cell_id = 23;\n",
       "                var nbb_unformatted_code = \"class Model(torch.nn.Module):\\n    def __init__(self):\\n\\n        super(Model, self).__init__()\\n        self.bert = transformers.BertModel.from_pretrained(\\n            \\\"prajjwal1/bert-tiny\\\", return_dict=False\\n        )\\n        self.bert_drop = nn.Dropout(0.3)\\n        self.out = nn.Linear(128, 1)\\n\\n    def forward(self, input_ids, attention_mask, token_type_ids):\\n        _, o_2 = self.bert(\\n            input_ids, attention_mask=attention_mask, token_type_ids=token_type_ids\\n        )\\n\\n        b_o = self.bert_drop(o_2)\\n        output = self.out(b_o)\\n        return output\";\n",
       "                var nbb_formatted_code = \"class Model(torch.nn.Module):\\n    def __init__(self):\\n\\n        super(Model, self).__init__()\\n        self.bert = transformers.BertModel.from_pretrained(\\n            \\\"prajjwal1/bert-tiny\\\", return_dict=False\\n        )\\n        self.bert_drop = nn.Dropout(0.3)\\n        self.out = nn.Linear(128, 1)\\n\\n    def forward(self, input_ids, attention_mask, token_type_ids):\\n        _, o_2 = self.bert(\\n            input_ids, attention_mask=attention_mask, token_type_ids=token_type_ids\\n        )\\n\\n        b_o = self.bert_drop(o_2)\\n        output = self.out(b_o)\\n        return output\";\n",
       "                var nbb_cells = Jupyter.notebook.get_cells();\n",
       "                for (var i = 0; i < nbb_cells.length; ++i) {\n",
       "                    if (nbb_cells[i].input_prompt_number == nbb_cell_id) {\n",
       "                        if (nbb_cells[i].get_text() == nbb_unformatted_code) {\n",
       "                             nbb_cells[i].set_text(nbb_formatted_code);\n",
       "                        }\n",
       "                        break;\n",
       "                    }\n",
       "                }\n",
       "            }, 500);\n",
       "            "
      ],
      "text/plain": [
       "<IPython.core.display.Javascript object>"
      ]
     },
     "metadata": {},
     "output_type": "display_data"
    }
   ],
   "source": [
    "class Model(torch.nn.Module):\n",
    "    def __init__(self):\n",
    "\n",
    "        super(Model, self).__init__()\n",
    "        self.bert = transformers.BertModel.from_pretrained(\n",
    "            \"prajjwal1/bert-tiny\", return_dict=False\n",
    "        )\n",
    "        self.bert_drop = nn.Dropout(0.3)\n",
    "        self.out = nn.Linear(128, 1)\n",
    "\n",
    "    def forward(self, input_ids, attention_mask, token_type_ids):\n",
    "        _, o_2 = self.bert(\n",
    "            input_ids, attention_mask=attention_mask, token_type_ids=token_type_ids\n",
    "        )\n",
    "\n",
    "        b_o = self.bert_drop(o_2)\n",
    "        output = self.out(b_o)\n",
    "        return output"
   ]
  },
  {
   "cell_type": "code",
   "execution_count": 24,
   "metadata": {},
   "outputs": [
    {
     "data": {
      "application/javascript": [
       "\n",
       "            setTimeout(function() {\n",
       "                var nbb_cell_id = 24;\n",
       "                var nbb_unformatted_code = \"model = Model()\";\n",
       "                var nbb_formatted_code = \"model = Model()\";\n",
       "                var nbb_cells = Jupyter.notebook.get_cells();\n",
       "                for (var i = 0; i < nbb_cells.length; ++i) {\n",
       "                    if (nbb_cells[i].input_prompt_number == nbb_cell_id) {\n",
       "                        if (nbb_cells[i].get_text() == nbb_unformatted_code) {\n",
       "                             nbb_cells[i].set_text(nbb_formatted_code);\n",
       "                        }\n",
       "                        break;\n",
       "                    }\n",
       "                }\n",
       "            }, 500);\n",
       "            "
      ],
      "text/plain": [
       "<IPython.core.display.Javascript object>"
      ]
     },
     "metadata": {},
     "output_type": "display_data"
    }
   ],
   "source": [
    "model = Model()"
   ]
  },
  {
   "cell_type": "code",
   "execution_count": 25,
   "metadata": {},
   "outputs": [
    {
     "data": {
      "application/javascript": [
       "\n",
       "            setTimeout(function() {\n",
       "                var nbb_cell_id = 25;\n",
       "                var nbb_unformatted_code = \"metric_list = [metrics.Accuracy(num_classes=1, multilabel=False, threshold=0.6)]\\ncallbacks = [\\n    cbs.EarlyStopping(monitor=\\\"accuracy\\\", patience=5),\\n    cbs.ModelCheckpoint(monitor=\\\"accuracy\\\"),\\n]\\nparam_optimizer = list(model.named_parameters())\\nno_decay = [\\\"bias\\\", \\\"LayerNorm.bias\\\"]\\noptimizer_parameters = [\\n    {\\n        \\\"params\\\": [\\n            p for n, p in param_optimizer if not any(nd in n for nd in no_decay)\\n        ],\\n        \\\"weight_decay\\\": 0.001,\\n    },\\n    {\\n        \\\"params\\\": [p for n, p in param_optimizer if any(nd in n for nd in no_decay)],\\n        \\\"weight_decay\\\": 0.0,\\n    },\\n]\";\n",
       "                var nbb_formatted_code = \"metric_list = [metrics.Accuracy(num_classes=1, multilabel=False, threshold=0.6)]\\ncallbacks = [\\n    cbs.EarlyStopping(monitor=\\\"accuracy\\\", patience=5),\\n    cbs.ModelCheckpoint(monitor=\\\"accuracy\\\"),\\n]\\nparam_optimizer = list(model.named_parameters())\\nno_decay = [\\\"bias\\\", \\\"LayerNorm.bias\\\"]\\noptimizer_parameters = [\\n    {\\n        \\\"params\\\": [\\n            p for n, p in param_optimizer if not any(nd in n for nd in no_decay)\\n        ],\\n        \\\"weight_decay\\\": 0.001,\\n    },\\n    {\\n        \\\"params\\\": [p for n, p in param_optimizer if any(nd in n for nd in no_decay)],\\n        \\\"weight_decay\\\": 0.0,\\n    },\\n]\";\n",
       "                var nbb_cells = Jupyter.notebook.get_cells();\n",
       "                for (var i = 0; i < nbb_cells.length; ++i) {\n",
       "                    if (nbb_cells[i].input_prompt_number == nbb_cell_id) {\n",
       "                        if (nbb_cells[i].get_text() == nbb_unformatted_code) {\n",
       "                             nbb_cells[i].set_text(nbb_formatted_code);\n",
       "                        }\n",
       "                        break;\n",
       "                    }\n",
       "                }\n",
       "            }, 500);\n",
       "            "
      ],
      "text/plain": [
       "<IPython.core.display.Javascript object>"
      ]
     },
     "metadata": {},
     "output_type": "display_data"
    }
   ],
   "source": [
    "metric_list = [metrics.Accuracy(num_classes=2, multilabel=False, threshold=0.6)]\n",
    "callbacks = [\n",
    "    cbs.EarlyStopping(monitor=\"accuracy\", patience=5),\n",
    "    cbs.ModelCheckpoint(monitor=\"accuracy\"),\n",
    "]\n",
    "param_optimizer = list(model.named_parameters())\n",
    "no_decay = [\"bias\", \"LayerNorm.bias\"]\n",
    "optimizer_parameters = [\n",
    "    {\n",
    "        \"params\": [\n",
    "            p for n, p in param_optimizer if not any(nd in n for nd in no_decay)\n",
    "        ],\n",
    "        \"weight_decay\": 0.001,\n",
    "    },\n",
    "    {\n",
    "        \"params\": [p for n, p in param_optimizer if any(nd in n for nd in no_decay)],\n",
    "        \"weight_decay\": 0.0,\n",
    "    },\n",
    "]"
   ]
  },
  {
   "cell_type": "code",
   "execution_count": 26,
   "metadata": {},
   "outputs": [
    {
     "data": {
      "application/javascript": [
       "\n",
       "            setTimeout(function() {\n",
       "                var nbb_cell_id = 26;\n",
       "                var nbb_unformatted_code = \"exp = Experiment(\\n    num_epochs=3,\\n    save_dir=\\\"./models\\\",\\n    model_name=\\\"text_cls.bin\\\",\\n    fp16=False,\\n    using_batch_mixers=False,\\n    device=\\\"cuda\\\",\\n    compute_train_metrics=True,\\n    seed=42,\\n)\";\n",
       "                var nbb_formatted_code = \"exp = Experiment(\\n    num_epochs=3,\\n    save_dir=\\\"./models\\\",\\n    model_name=\\\"text_cls.bin\\\",\\n    fp16=False,\\n    using_batch_mixers=False,\\n    device=\\\"cuda\\\",\\n    compute_train_metrics=True,\\n    seed=42,\\n)\";\n",
       "                var nbb_cells = Jupyter.notebook.get_cells();\n",
       "                for (var i = 0; i < nbb_cells.length; ++i) {\n",
       "                    if (nbb_cells[i].input_prompt_number == nbb_cell_id) {\n",
       "                        if (nbb_cells[i].get_text() == nbb_unformatted_code) {\n",
       "                             nbb_cells[i].set_text(nbb_formatted_code);\n",
       "                        }\n",
       "                        break;\n",
       "                    }\n",
       "                }\n",
       "            }, 500);\n",
       "            "
      ],
      "text/plain": [
       "<IPython.core.display.Javascript object>"
      ]
     },
     "metadata": {},
     "output_type": "display_data"
    }
   ],
   "source": [
    "exp = Experiment(\n",
    "    num_epochs=3,\n",
    "    save_dir=\"./models\",\n",
    "    model_name=\"text_cls.bin\",\n",
    "    fp16=False,\n",
    "    using_batch_mixers=False,\n",
    "    device=\"cuda\",\n",
    "    compute_train_metrics=True,\n",
    "    seed=42,\n",
    ")"
   ]
  },
  {
   "cell_type": "code",
   "execution_count": 27,
   "metadata": {},
   "outputs": [
    {
     "data": {
      "application/javascript": [
       "\n",
       "            setTimeout(function() {\n",
       "                var nbb_cell_id = 27;\n",
       "                var nbb_unformatted_code = \"exp.compile_experiment(\\n    model=model,\\n    optimizer=\\\"AdamW\\\",\\n    optimizer_params=dict(model_params=optimizer_parameters, lr=3e-4),\\n    callbacks=callbacks,\\n    scheduler=\\\"ReduceLROnPlateau\\\",\\n    scheduler_params=dict(mode=\\\"max\\\", patience=2),\\n    criterion=crit.BCEWithLogitsFlat,\\n    metrics=metric_list,\\n    main_metric=\\\"accuracy\\\",\\n)\";\n",
       "                var nbb_formatted_code = \"exp.compile_experiment(\\n    model=model,\\n    optimizer=\\\"AdamW\\\",\\n    optimizer_params=dict(model_params=optimizer_parameters, lr=3e-4),\\n    callbacks=callbacks,\\n    scheduler=\\\"ReduceLROnPlateau\\\",\\n    scheduler_params=dict(mode=\\\"max\\\", patience=2),\\n    criterion=crit.BCEWithLogitsFlat,\\n    metrics=metric_list,\\n    main_metric=\\\"accuracy\\\",\\n)\";\n",
       "                var nbb_cells = Jupyter.notebook.get_cells();\n",
       "                for (var i = 0; i < nbb_cells.length; ++i) {\n",
       "                    if (nbb_cells[i].input_prompt_number == nbb_cell_id) {\n",
       "                        if (nbb_cells[i].get_text() == nbb_unformatted_code) {\n",
       "                             nbb_cells[i].set_text(nbb_formatted_code);\n",
       "                        }\n",
       "                        break;\n",
       "                    }\n",
       "                }\n",
       "            }, 500);\n",
       "            "
      ],
      "text/plain": [
       "<IPython.core.display.Javascript object>"
      ]
     },
     "metadata": {},
     "output_type": "display_data"
    }
   ],
   "source": [
    "exp.compile_experiment(\n",
    "    model=model,\n",
    "    optimizer=\"AdamW\",\n",
    "    optimizer_params=dict(model_params=optimizer_parameters, lr=3e-4),\n",
    "    callbacks=callbacks,\n",
    "    scheduler=\"ReduceLROnPlateau\",\n",
    "    scheduler_params=dict(mode=\"max\", patience=2),\n",
    "    criterion=crit.BCEWithLogitsFlat,\n",
    "    metrics=metric_list,\n",
    "    main_metric=\"accuracy\",\n",
    ")"
   ]
  },
  {
   "cell_type": "code",
   "execution_count": 28,
   "metadata": {},
   "outputs": [
    {
     "name": "stdout",
     "output_type": "stream",
     "text": [
      "Sanity Check Completed. Model Forward Pass and Loss Computation Successful\n",
      "Output Shape : torch.Size([16, 1])\n",
      "Loss for a batch :0.7377960681915283\n"
     ]
    },
    {
     "data": {
      "application/javascript": [
       "\n",
       "            setTimeout(function() {\n",
       "                var nbb_cell_id = 28;\n",
       "                var nbb_unformatted_code = \"exp.perform_sanity_check(train_dl)\";\n",
       "                var nbb_formatted_code = \"exp.perform_sanity_check(train_dl)\";\n",
       "                var nbb_cells = Jupyter.notebook.get_cells();\n",
       "                for (var i = 0; i < nbb_cells.length; ++i) {\n",
       "                    if (nbb_cells[i].input_prompt_number == nbb_cell_id) {\n",
       "                        if (nbb_cells[i].get_text() == nbb_unformatted_code) {\n",
       "                             nbb_cells[i].set_text(nbb_formatted_code);\n",
       "                        }\n",
       "                        break;\n",
       "                    }\n",
       "                }\n",
       "            }, 500);\n",
       "            "
      ],
      "text/plain": [
       "<IPython.core.display.Javascript object>"
      ]
     },
     "metadata": {},
     "output_type": "display_data"
    }
   ],
   "source": [
    "exp.perform_sanity_check(train_dl)"
   ]
  },
  {
   "cell_type": "code",
   "execution_count": 29,
   "metadata": {},
   "outputs": [
    {
     "data": {
      "text/html": [
       "<table border=\"1\" class=\"dataframe\">\n",
       "  <thead>\n",
       "    <tr style=\"text-align: left;\">\n",
       "      <th>Epoch</th>\n",
       "      <th>train_loss</th>\n",
       "      <th>train_accuracy</th>\n",
       "      <th>val_loss</th>\n",
       "      <th>val_accuracy</th>\n",
       "      <th>Time</th>\n",
       "    </tr>\n",
       "  </thead>\n",
       "  <tbody>\n",
       "    <tr>\n",
       "      <td>0</td>\n",
       "      <td>0.46017</td>\n",
       "      <td>0.77157</td>\n",
       "      <td>0.37027</td>\n",
       "      <td>0.83358</td>\n",
       "      <td>01:50</td>\n",
       "    </tr>\n",
       "    <tr>\n",
       "      <td>1</td>\n",
       "      <td>0.28930</td>\n",
       "      <td>0.87754</td>\n",
       "      <td>0.39725</td>\n",
       "      <td>0.82000</td>\n",
       "      <td>01:58</td>\n",
       "    </tr>\n",
       "    <tr>\n",
       "      <td>2</td>\n",
       "      <td>0.17351</td>\n",
       "      <td>0.93443</td>\n",
       "      <td>0.44552</td>\n",
       "      <td>0.82067</td>\n",
       "      <td>01:59</td>\n",
       "    </tr>\n",
       "  </tbody>\n",
       "</table>"
      ],
      "text/plain": [
       "<IPython.core.display.HTML object>"
      ]
     },
     "metadata": {},
     "output_type": "display_data"
    },
    {
     "data": {
      "application/javascript": [
       "\n",
       "            setTimeout(function() {\n",
       "                var nbb_cell_id = 29;\n",
       "                var nbb_unformatted_code = \"exp.run_experiment(train_dl=train_dl, valid_dl=valid_dl)\";\n",
       "                var nbb_formatted_code = \"exp.run_experiment(train_dl=train_dl, valid_dl=valid_dl)\";\n",
       "                var nbb_cells = Jupyter.notebook.get_cells();\n",
       "                for (var i = 0; i < nbb_cells.length; ++i) {\n",
       "                    if (nbb_cells[i].input_prompt_number == nbb_cell_id) {\n",
       "                        if (nbb_cells[i].get_text() == nbb_unformatted_code) {\n",
       "                             nbb_cells[i].set_text(nbb_formatted_code);\n",
       "                        }\n",
       "                        break;\n",
       "                    }\n",
       "                }\n",
       "            }, 500);\n",
       "            "
      ],
      "text/plain": [
       "<IPython.core.display.Javascript object>"
      ]
     },
     "metadata": {},
     "output_type": "display_data"
    }
   ],
   "source": [
    "exp.run_experiment(train_dl=train_dl, valid_dl=valid_dl)"
   ]
  },
  {
   "cell_type": "code",
   "execution_count": 30,
   "metadata": {},
   "outputs": [
    {
     "data": {
      "application/javascript": [
       "\n",
       "            setTimeout(function() {\n",
       "                var nbb_cell_id = 30;\n",
       "                var nbb_unformatted_code = \"test_df = pd.read_csv(\\\"test.csv\\\")\\ntest_df.text = test_df.text.apply(lambda x: x.lower())\";\n",
       "                var nbb_formatted_code = \"test_df = pd.read_csv(\\\"test.csv\\\")\\ntest_df.text = test_df.text.apply(lambda x: x.lower())\";\n",
       "                var nbb_cells = Jupyter.notebook.get_cells();\n",
       "                for (var i = 0; i < nbb_cells.length; ++i) {\n",
       "                    if (nbb_cells[i].input_prompt_number == nbb_cell_id) {\n",
       "                        if (nbb_cells[i].get_text() == nbb_unformatted_code) {\n",
       "                             nbb_cells[i].set_text(nbb_formatted_code);\n",
       "                        }\n",
       "                        break;\n",
       "                    }\n",
       "                }\n",
       "            }, 500);\n",
       "            "
      ],
      "text/plain": [
       "<IPython.core.display.Javascript object>"
      ]
     },
     "metadata": {},
     "output_type": "display_data"
    }
   ],
   "source": [
    "test_df = pd.read_csv(\"test.csv\")\n",
    "test_df.text = test_df.text.apply(lambda x: x.lower())"
   ]
  },
  {
   "cell_type": "code",
   "execution_count": 31,
   "metadata": {},
   "outputs": [
    {
     "data": {
      "application/javascript": [
       "\n",
       "            setTimeout(function() {\n",
       "                var nbb_cell_id = 31;\n",
       "                var nbb_unformatted_code = \"test_dl = SimpleDataloader.text_data_from_df(\\n    df=test_df, input_col=\\\"text\\\", label_cols=None, tokenizer=tokenizer, max_len=128\\n).get_loader(batch_size=16, shuffle=True)\";\n",
       "                var nbb_formatted_code = \"test_dl = SimpleDataloader.text_data_from_df(\\n    df=test_df, input_col=\\\"text\\\", label_cols=None, tokenizer=tokenizer, max_len=128\\n).get_loader(batch_size=16, shuffle=True)\";\n",
       "                var nbb_cells = Jupyter.notebook.get_cells();\n",
       "                for (var i = 0; i < nbb_cells.length; ++i) {\n",
       "                    if (nbb_cells[i].input_prompt_number == nbb_cell_id) {\n",
       "                        if (nbb_cells[i].get_text() == nbb_unformatted_code) {\n",
       "                             nbb_cells[i].set_text(nbb_formatted_code);\n",
       "                        }\n",
       "                        break;\n",
       "                    }\n",
       "                }\n",
       "            }, 500);\n",
       "            "
      ],
      "text/plain": [
       "<IPython.core.display.Javascript object>"
      ]
     },
     "metadata": {},
     "output_type": "display_data"
    }
   ],
   "source": [
    "test_dl = SimpleDataloader.text_data_from_df(\n",
    "    df=test_df, input_col=\"text\", label_cols=None, tokenizer=tokenizer, max_len=128\n",
    ").get_loader(batch_size=16, shuffle=True)"
   ]
  },
  {
   "cell_type": "code",
   "execution_count": 32,
   "metadata": {},
   "outputs": [
    {
     "data": {
      "application/javascript": [
       "\n",
       "            setTimeout(function() {\n",
       "                var nbb_cell_id = 32;\n",
       "                var nbb_unformatted_code = \"ops = []\\nfor op in exp.infer(path=\\\"./models/text_cls.bin\\\", test_loader=test_dl):\\n    z = torch.sigmoid(op).numpy()\\n    ops.extend(z)\\n\\nops = np.concatenate(ops)\";\n",
       "                var nbb_formatted_code = \"ops = []\\nfor op in exp.infer(path=\\\"./models/text_cls.bin\\\", test_loader=test_dl):\\n    z = torch.sigmoid(op).numpy()\\n    ops.extend(z)\\n\\nops = np.concatenate(ops)\";\n",
       "                var nbb_cells = Jupyter.notebook.get_cells();\n",
       "                for (var i = 0; i < nbb_cells.length; ++i) {\n",
       "                    if (nbb_cells[i].input_prompt_number == nbb_cell_id) {\n",
       "                        if (nbb_cells[i].get_text() == nbb_unformatted_code) {\n",
       "                             nbb_cells[i].set_text(nbb_formatted_code);\n",
       "                        }\n",
       "                        break;\n",
       "                    }\n",
       "                }\n",
       "            }, 500);\n",
       "            "
      ],
      "text/plain": [
       "<IPython.core.display.Javascript object>"
      ]
     },
     "metadata": {},
     "output_type": "display_data"
    }
   ],
   "source": [
    "ops = []\n",
    "for op in exp.infer(path=\"./models/text_cls.bin\", test_loader=test_dl):\n",
    "    z = torch.sigmoid(op).numpy()\n",
    "    ops.extend(z)\n",
    "\n",
    "ops = np.concatenate(ops)"
   ]
  },
  {
   "cell_type": "code",
   "execution_count": null,
   "metadata": {},
   "outputs": [],
   "source": []
  }
 ],
 "metadata": {
  "kernelspec": {
   "display_name": "Python 3",
   "language": "python",
   "name": "python3"
  },
  "language_info": {
   "codemirror_mode": {
    "name": "ipython",
    "version": 3
   },
   "file_extension": ".py",
   "mimetype": "text/x-python",
   "name": "python",
   "nbconvert_exporter": "python",
   "pygments_lexer": "ipython3",
   "version": "3.8.5"
  }
 },
 "nbformat": 4,
 "nbformat_minor": 4
}

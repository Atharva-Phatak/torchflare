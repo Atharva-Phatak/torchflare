{
 "cells": [
  {
   "cell_type": "code",
   "execution_count": 9,
   "id": "3c35703c",
   "metadata": {},
   "outputs": [],
   "source": [
    "import pandas as pd \n",
    "import numpy as np\n",
    "from torchflare.experiments import Experiment, ModelConfig\n",
    "import torchflare.callbacks as cbs \n",
    "import torchflare.metrics as metrics\n",
    "from sklearn.model_selection import train_test_split\n",
    "import os\n",
    "\n",
    "import torch\n",
    "import torch.nn as nn \n",
    "import torch.nn.functional as F"
   ]
  },
  {
   "cell_type": "code",
   "execution_count": 2,
   "id": "be41361f",
   "metadata": {},
   "outputs": [],
   "source": [
    "train_df = pd.read_csv(\"dataset/train.csv\")"
   ]
  },
  {
   "cell_type": "code",
   "execution_count": 3,
   "id": "75fd23ae",
   "metadata": {},
   "outputs": [],
   "source": [
    "classes = train_df.label.nunique()"
   ]
  },
  {
   "cell_type": "code",
   "execution_count": 4,
   "id": "531c54d5",
   "metadata": {},
   "outputs": [],
   "source": [
    "train_labels = train_df['label'].values\n",
    "train_images = (train_df.iloc[:,1:].values).astype('float32')\n",
    "train_images, val_images, train_labels, val_labels = train_test_split(train_images, train_labels,\n",
    "                                                                     stratify=train_labels, random_state=123,\n",
    "                                                                     test_size=0.20)\n",
    "\n"
   ]
  },
  {
   "cell_type": "code",
   "execution_count": 5,
   "id": "c8d3996e",
   "metadata": {},
   "outputs": [],
   "source": [
    "train_images = train_images.reshape(train_images.shape[0],1, 28, 28)\n",
    "val_images = val_images.reshape(val_images.shape[0], 1,28, 28)"
   ]
  },
  {
   "cell_type": "code",
   "execution_count": 6,
   "id": "1ccd8d46",
   "metadata": {},
   "outputs": [],
   "source": [
    "train_images = train_images / 255.0\n",
    "val_images = val_images/255.0"
   ]
  },
  {
   "cell_type": "code",
   "execution_count": 7,
   "id": "f72a9d50",
   "metadata": {},
   "outputs": [],
   "source": [
    "class Net(torch.nn.Module):\n",
    "    def __init__(self, out_features):\n",
    "        super(Net, self).__init__()\n",
    "        \n",
    "        self.conv1 = nn.Sequential(\n",
    "            nn.Conv2d(in_channels=1, out_channels=64, kernel_size=3, padding=1),\n",
    "            nn.BatchNorm2d(num_features=64, eps=1e-05, momentum=0.1),\n",
    "            nn.Conv2d(in_channels=64, out_channels=64, kernel_size=3, padding=1),\n",
    "            nn.BatchNorm2d(num_features=64, eps=1e-05, momentum=0.1),\n",
    "            nn.ReLU(),\n",
    "\n",
    "            nn.Conv2d(in_channels=64, out_channels=64, kernel_size=3, padding=1),\n",
    "            nn.BatchNorm2d(num_features=64, eps=1e-05, momentum=0.1),\n",
    "            nn.Conv2d(in_channels=64, out_channels=64, kernel_size=3, padding=1),\n",
    "            nn.BatchNorm2d(num_features=64, eps=1e-05, momentum=0.1),\n",
    "            nn.ReLU(),\n",
    "\n",
    "            nn.MaxPool2d(kernel_size=2, stride=2),\n",
    "            nn.Dropout2d(0.25),\n",
    "        )\n",
    "       \n",
    "        self.conv2 = nn.Sequential(\n",
    "            nn.Conv2d(in_channels=64, out_channels=64, kernel_size=3, padding=1),\n",
    "            nn.BatchNorm2d(num_features=64, eps=1e-05, momentum=0.1),\n",
    "            nn.ReLU(),\n",
    "\n",
    "            nn.Conv2d(in_channels=64, out_channels=64, kernel_size=3, padding=1),\n",
    "            nn.BatchNorm2d(num_features=64, eps=1e-05, momentum=0.1),\n",
    "            nn.ReLU(),\n",
    "\n",
    "            nn.MaxPool2d(kernel_size=2, stride=2),\n",
    "            nn.Dropout2d(0.25),\n",
    "        )\n",
    "        \n",
    "        self.fc1 = nn.Sequential(\n",
    "            nn.Dropout(0.25),\n",
    "            nn.Linear(7 * 7 * 64, 256),\n",
    "            nn.BatchNorm1d(num_features=256, eps=1e-05, momentum=0.1),\n",
    "            nn.ReLU(),\n",
    "            nn.Dropout(0.25),\n",
    "        )\n",
    "        \n",
    "        self.fc2 = nn.Sequential(\n",
    "            nn.Dropout(0.25),\n",
    "            nn.Linear(256, out_features),\n",
    "        )\n",
    "    \n",
    "    def forward(self, x):\n",
    "        x = self.conv1(x)\n",
    "        x = self.conv2(x)\n",
    "        \n",
    "        # Flatten the 3 last dimensions (channels, width, height) to one\n",
    "        x = x.view(x.size(0), x.size(1) * x.size(2) * x.size(3))\n",
    "        \n",
    "        x = self.fc1(x)\n",
    "        x = self.fc2(x)\n",
    "        \n",
    "        return x"
   ]
  },
  {
   "cell_type": "code",
   "execution_count": 11,
   "id": "6bfd053c",
   "metadata": {},
   "outputs": [],
   "source": [
    "metric_list = [metrics.Accuracy(num_classes=classes, multilabel=False)]\n",
    "\n",
    "callbacks = [\n",
    "    cbs.EarlyStopping(monitor=\"val_accuracy\", mode = \"max\",patience=5),\n",
    "    cbs.ModelCheckpoint(monitor=\"val_accuracy\", mode = \"max\"),\n",
    "    cbs.ReduceLROnPlateau(mode=\"max\" , patience = 2),\n",
    "    cbs.DiscordNotifierCallback(exp_name = \"MNIST-EXP\" , webhook_url = os.environ.get(\"DISCORD_WEBHOOK\")\n",
    "                               )\n",
    "    \n",
    "]\n",
    "config = ModelConfig(nn_module=Net, #The uninstantiated model_class for the neural network.\n",
    "    module_params = {\"out_features\" : 10},\n",
    "    optimizer=\"Adam\",\n",
    "    optimizer_params = {\"lr\" : 3e-4},\n",
    "    criterion=\"cross_entropy\")"
   ]
  },
  {
   "cell_type": "code",
   "execution_count": 12,
   "id": "160fc996",
   "metadata": {},
   "outputs": [],
   "source": [
    "exp = Experiment(\n",
    "    num_epochs=3,\n",
    "    fp16=True,\n",
    "    device=\"cuda\",\n",
    "    seed=42,\n",
    ")\n",
    "exp.compile_experiment(\n",
    "    model_config = config,\n",
    "    callbacks=callbacks,\n",
    "    metrics=metric_list,\n",
    "    main_metric=\"accuracy\",\n",
    ")"
   ]
  },
  {
   "cell_type": "code",
   "execution_count": 13,
   "id": "46a96770",
   "metadata": {},
   "outputs": [
    {
     "name": "stdout",
     "output_type": "stream",
     "text": [
      "\n",
      "Epoch: 1/3\n",
      "1050/1050 [=========================]- 28s 26ms/step - train_loss: 0.2638 - train_accuracy: 0.9343\n",
      "263/263 [=========================]- 2s 8ms/step - val_loss: 0.0632 - val_accuracy: 0.9436\n",
      "\n",
      "Epoch: 2/3\n",
      "1050/1050 [=========================]- 25s 24ms/step - train_loss: 0.0878 - train_accuracy: 0.9576\n",
      "263/263 [=========================]- 2s 8ms/step - val_loss: 0.0358 - val_accuracy: 0.9607\n",
      "\n",
      "Epoch: 3/3\n",
      "1050/1050 [=========================]- 26s 25ms/step - train_loss: 0.0678 - train_accuracy: 0.9659\n",
      "263/263 [=========================]- 2s 9ms/step - val_loss: 0.0321 - val_accuracy: 0.9676\n"
     ]
    }
   ],
   "source": [
    "exp.fit(x = train_images , y = train_labels , val_data = (val_images , val_labels), batch_size = 32)"
   ]
  },
  {
   "cell_type": "code",
   "execution_count": 14,
   "id": "8d6cee39",
   "metadata": {},
   "outputs": [
    {
     "data": {
      "text/html": [
       "<div>\n",
       "<style scoped>\n",
       "    .dataframe tbody tr th:only-of-type {\n",
       "        vertical-align: middle;\n",
       "    }\n",
       "\n",
       "    .dataframe tbody tr th {\n",
       "        vertical-align: top;\n",
       "    }\n",
       "\n",
       "    .dataframe thead th {\n",
       "        text-align: right;\n",
       "    }\n",
       "</style>\n",
       "<table border=\"1\" class=\"dataframe\">\n",
       "  <thead>\n",
       "    <tr style=\"text-align: right;\">\n",
       "      <th></th>\n",
       "      <th>Epoch</th>\n",
       "      <th>train_loss</th>\n",
       "      <th>train_accuracy</th>\n",
       "      <th>val_loss</th>\n",
       "      <th>val_accuracy</th>\n",
       "    </tr>\n",
       "  </thead>\n",
       "  <tbody>\n",
       "    <tr>\n",
       "      <th>0</th>\n",
       "      <td>1</td>\n",
       "      <td>0.263772</td>\n",
       "      <td>0.934256</td>\n",
       "      <td>0.063239</td>\n",
       "      <td>0.943619</td>\n",
       "    </tr>\n",
       "    <tr>\n",
       "      <th>1</th>\n",
       "      <td>2</td>\n",
       "      <td>0.087809</td>\n",
       "      <td>0.957579</td>\n",
       "      <td>0.035776</td>\n",
       "      <td>0.960714</td>\n",
       "    </tr>\n",
       "    <tr>\n",
       "      <th>2</th>\n",
       "      <td>3</td>\n",
       "      <td>0.067812</td>\n",
       "      <td>0.965918</td>\n",
       "      <td>0.032099</td>\n",
       "      <td>0.967556</td>\n",
       "    </tr>\n",
       "  </tbody>\n",
       "</table>\n",
       "</div>"
      ],
      "text/plain": [
       "   Epoch  train_loss  train_accuracy  val_loss  val_accuracy\n",
       "0      1    0.263772        0.934256  0.063239      0.943619\n",
       "1      2    0.087809        0.957579  0.035776      0.960714\n",
       "2      3    0.067812        0.965918  0.032099      0.967556"
      ]
     },
     "execution_count": 14,
     "metadata": {},
     "output_type": "execute_result"
    }
   ],
   "source": [
    "exp.get_logs()"
   ]
  },
  {
   "cell_type": "code",
   "execution_count": null,
   "id": "a267d077",
   "metadata": {},
   "outputs": [],
   "source": []
  }
 ],
 "metadata": {
  "kernelspec": {
   "display_name": "Python 3",
   "language": "python",
   "name": "python3"
  },
  "language_info": {
   "codemirror_mode": {
    "name": "ipython",
    "version": 3
   },
   "file_extension": ".py",
   "mimetype": "text/x-python",
   "name": "python",
   "nbconvert_exporter": "python",
   "pygments_lexer": "ipython3",
   "version": "3.8.5"
  }
 },
 "nbformat": 4,
 "nbformat_minor": 5
}

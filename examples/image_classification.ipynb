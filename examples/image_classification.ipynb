{
 "cells": [
  {
   "cell_type": "markdown",
   "id": "6ebcc8ca",
   "metadata": {},
   "source": [
    "## Image Classification on CIFAR-10\n",
    "* Dataset : <https://www.kaggle.com/c/cifar-10>"
   ]
  },
  {
   "cell_type": "code",
   "execution_count": 1,
   "id": "4d0dbb0b",
   "metadata": {},
   "outputs": [],
   "source": [
    "import torch\n",
    "from torchflare.datasets import ImageDataloader, show_batch, ImageDataset\n",
    "import torchflare.callbacks as cbs\n",
    "import pandas as pd\n",
    "\n",
    "from sklearn.model_selection import train_test_split\n",
    "import torch.nn as nn\n",
    "import torch.nn.functional as F\n",
    "import torchvision.models as models\n",
    "import torchvision.transforms as transforms\n",
    "from torchflare.experiments import Experiment\n",
    "import torchflare.metrics as metrics"
   ]
  },
  {
   "cell_type": "code",
   "execution_count": 2,
   "id": "4f6e9306",
   "metadata": {},
   "outputs": [
    {
     "data": {
      "application/javascript": [
       "\n",
       "            setTimeout(function() {\n",
       "                var nbb_cell_id = 2;\n",
       "                var nbb_unformatted_code = \"%load_ext nb_black\";\n",
       "                var nbb_formatted_code = \"%load_ext nb_black\";\n",
       "                var nbb_cells = Jupyter.notebook.get_cells();\n",
       "                for (var i = 0; i < nbb_cells.length; ++i) {\n",
       "                    if (nbb_cells[i].input_prompt_number == nbb_cell_id) {\n",
       "                        if (nbb_cells[i].get_text() == nbb_unformatted_code) {\n",
       "                             nbb_cells[i].set_text(nbb_formatted_code);\n",
       "                        }\n",
       "                        break;\n",
       "                    }\n",
       "                }\n",
       "            }, 500);\n",
       "            "
      ],
      "text/plain": [
       "<IPython.core.display.Javascript object>"
      ]
     },
     "metadata": {},
     "output_type": "display_data"
    }
   ],
   "source": [
    "%load_ext nb_black"
   ]
  },
  {
   "cell_type": "code",
   "execution_count": 4,
   "id": "26137d89",
   "metadata": {},
   "outputs": [
    {
     "data": {
      "application/javascript": [
       "\n",
       "            setTimeout(function() {\n",
       "                var nbb_cell_id = 4;\n",
       "                var nbb_unformatted_code = \"df = pd.read_csv(\\\"dataset/trainLabels.csv\\\")\\nclasses = df.label.unique().tolist()\\nclass_to_idx = {value: key for key, value in enumerate(classes)}\\ndf.label = df.label.map(class_to_idx)\\ndf.id = df.id.astype(str)\\ndf = df.sample(frac=1).reset_index(drop=True)\";\n",
       "                var nbb_formatted_code = \"df = pd.read_csv(\\\"dataset/trainLabels.csv\\\")\\nclasses = df.label.unique().tolist()\\nclass_to_idx = {value: key for key, value in enumerate(classes)}\\ndf.label = df.label.map(class_to_idx)\\ndf.id = df.id.astype(str)\\ndf = df.sample(frac=1).reset_index(drop=True)\";\n",
       "                var nbb_cells = Jupyter.notebook.get_cells();\n",
       "                for (var i = 0; i < nbb_cells.length; ++i) {\n",
       "                    if (nbb_cells[i].input_prompt_number == nbb_cell_id) {\n",
       "                        if (nbb_cells[i].get_text() == nbb_unformatted_code) {\n",
       "                             nbb_cells[i].set_text(nbb_formatted_code);\n",
       "                        }\n",
       "                        break;\n",
       "                    }\n",
       "                }\n",
       "            }, 500);\n",
       "            "
      ],
      "text/plain": [
       "<IPython.core.display.Javascript object>"
      ]
     },
     "metadata": {},
     "output_type": "display_data"
    }
   ],
   "source": [
    "df = pd.read_csv(\"dataset/trainLabels.csv\")\n",
    "classes = df.label.unique().tolist()\n",
    "class_to_idx = {value: key for key, value in enumerate(classes)}\n",
    "df.label = df.label.map(class_to_idx)\n",
    "df.id = df.id.astype(str)\n",
    "df = df.sample(frac=1).reset_index(drop=True)"
   ]
  },
  {
   "cell_type": "code",
   "execution_count": 5,
   "id": "a557ad48",
   "metadata": {},
   "outputs": [
    {
     "data": {
      "application/javascript": [
       "\n",
       "            setTimeout(function() {\n",
       "                var nbb_cell_id = 5;\n",
       "                var nbb_unformatted_code = \"test_df = df.iloc[:10000, :]  # I took first 10000 entries as test data\\ndata_df = df.iloc[10000:, :]\\ntrain_df, valid_df = train_test_split(data_df, test_size=0.3)\";\n",
       "                var nbb_formatted_code = \"test_df = df.iloc[:10000, :]  # I took first 10000 entries as test data\\ndata_df = df.iloc[10000:, :]\\ntrain_df, valid_df = train_test_split(data_df, test_size=0.3)\";\n",
       "                var nbb_cells = Jupyter.notebook.get_cells();\n",
       "                for (var i = 0; i < nbb_cells.length; ++i) {\n",
       "                    if (nbb_cells[i].input_prompt_number == nbb_cell_id) {\n",
       "                        if (nbb_cells[i].get_text() == nbb_unformatted_code) {\n",
       "                             nbb_cells[i].set_text(nbb_formatted_code);\n",
       "                        }\n",
       "                        break;\n",
       "                    }\n",
       "                }\n",
       "            }, 500);\n",
       "            "
      ],
      "text/plain": [
       "<IPython.core.display.Javascript object>"
      ]
     },
     "metadata": {},
     "output_type": "display_data"
    }
   ],
   "source": [
    "test_df = df.iloc[:10000, :]  # I took first 10000 entries as test data\n",
    "data_df = df.iloc[10000:, :]\n",
    "train_df, valid_df = train_test_split(data_df, test_size=0.3)"
   ]
  },
  {
   "cell_type": "code",
   "execution_count": 6,
   "id": "487d8743",
   "metadata": {},
   "outputs": [
    {
     "data": {
      "application/javascript": [
       "\n",
       "            setTimeout(function() {\n",
       "                var nbb_cell_id = 6;\n",
       "                var nbb_unformatted_code = \"train_transform = transforms.Compose(\\n    [\\n        transforms.ToTensor(),\\n        transforms.Normalize((0.5, 0.5, 0.5), (0.5, 0.5, 0.5)),\\n    ]\\n)\\n\\nvalid_transform = transforms.Compose([transforms.ToTensor()])\";\n",
       "                var nbb_formatted_code = \"train_transform = transforms.Compose(\\n    [\\n        transforms.ToTensor(),\\n        transforms.Normalize((0.5, 0.5, 0.5), (0.5, 0.5, 0.5)),\\n    ]\\n)\\n\\nvalid_transform = transforms.Compose([transforms.ToTensor()])\";\n",
       "                var nbb_cells = Jupyter.notebook.get_cells();\n",
       "                for (var i = 0; i < nbb_cells.length; ++i) {\n",
       "                    if (nbb_cells[i].input_prompt_number == nbb_cell_id) {\n",
       "                        if (nbb_cells[i].get_text() == nbb_unformatted_code) {\n",
       "                             nbb_cells[i].set_text(nbb_formatted_code);\n",
       "                        }\n",
       "                        break;\n",
       "                    }\n",
       "                }\n",
       "            }, 500);\n",
       "            "
      ],
      "text/plain": [
       "<IPython.core.display.Javascript object>"
      ]
     },
     "metadata": {},
     "output_type": "display_data"
    }
   ],
   "source": [
    "train_transform = transforms.Compose(\n",
    "    [\n",
    "        transforms.ToTensor(),\n",
    "        transforms.Normalize((0.5, 0.5, 0.5), (0.5, 0.5, 0.5)),\n",
    "    ]\n",
    ")\n",
    "\n",
    "valid_transform = transforms.Compose([transforms.ToTensor()])"
   ]
  },
  {
   "cell_type": "code",
   "execution_count": 7,
   "id": "6e868f38",
   "metadata": {},
   "outputs": [
    {
     "data": {
      "application/javascript": [
       "\n",
       "            setTimeout(function() {\n",
       "                var nbb_cell_id = 7;\n",
       "                var nbb_unformatted_code = \"# Creating Training Dataloader.\\n\\ntrain_dl = ImageDataloader.from_df(\\n    path=\\\"dataset/train\\\",\\n    image_col=\\\"id\\\",\\n    label_cols=\\\"label\\\",\\n    augmentations=train_transform,\\n    df=train_df,\\n    extension=\\\".png\\\",\\n    convert_mode=\\\"RGB\\\",\\n).get_loader(batch_size=32, shuffle=True, num_workers = 0)\\n\\n# Creating Validation Dataloader.\\n\\nvalid_dl = ImageDataloader.from_df(\\n    path=\\\"dataset/train\\\",\\n    image_col=\\\"id\\\",\\n    label_cols=\\\"label\\\",\\n    augmentations=valid_transform,\\n    df=valid_df,\\n    extension=\\\".png\\\",\\n    convert_mode=\\\"RGB\\\",\\n).get_loader(batch_size=32, shuffle = False,num_workers=0)\\n\\n# Creating Test Dataloader.\\n\\ntest_dl = ImageDataloader.from_df(\\n    path=\\\"dataset/train\\\",\\n    image_col=\\\"id\\\",\\n    label_cols=None,  # Setting label_cols as None since we wont have labels for test data.\\n    augmentations=valid_transform,\\n    df=test_df,\\n    extension=\\\".png\\\",\\n    convert_mode=\\\"RGB\\\",\\n).get_loader(batch_size=16, num_workers=0)\";\n",
       "                var nbb_formatted_code = \"# Creating Training Dataloader.\\n\\ntrain_dl = ImageDataloader.from_df(\\n    path=\\\"dataset/train\\\",\\n    image_col=\\\"id\\\",\\n    label_cols=\\\"label\\\",\\n    augmentations=train_transform,\\n    df=train_df,\\n    extension=\\\".png\\\",\\n    convert_mode=\\\"RGB\\\",\\n).get_loader(batch_size=32, shuffle=True, num_workers=0)\\n\\n# Creating Validation Dataloader.\\n\\nvalid_dl = ImageDataloader.from_df(\\n    path=\\\"dataset/train\\\",\\n    image_col=\\\"id\\\",\\n    label_cols=\\\"label\\\",\\n    augmentations=valid_transform,\\n    df=valid_df,\\n    extension=\\\".png\\\",\\n    convert_mode=\\\"RGB\\\",\\n).get_loader(batch_size=32, shuffle=False, num_workers=0)\\n\\n# Creating Test Dataloader.\\n\\ntest_dl = ImageDataloader.from_df(\\n    path=\\\"dataset/train\\\",\\n    image_col=\\\"id\\\",\\n    label_cols=None,  # Setting label_cols as None since we wont have labels for test data.\\n    augmentations=valid_transform,\\n    df=test_df,\\n    extension=\\\".png\\\",\\n    convert_mode=\\\"RGB\\\",\\n).get_loader(batch_size=16, num_workers=0)\";\n",
       "                var nbb_cells = Jupyter.notebook.get_cells();\n",
       "                for (var i = 0; i < nbb_cells.length; ++i) {\n",
       "                    if (nbb_cells[i].input_prompt_number == nbb_cell_id) {\n",
       "                        if (nbb_cells[i].get_text() == nbb_unformatted_code) {\n",
       "                             nbb_cells[i].set_text(nbb_formatted_code);\n",
       "                        }\n",
       "                        break;\n",
       "                    }\n",
       "                }\n",
       "            }, 500);\n",
       "            "
      ],
      "text/plain": [
       "<IPython.core.display.Javascript object>"
      ]
     },
     "metadata": {},
     "output_type": "display_data"
    }
   ],
   "source": [
    "# Creating Training Dataloader.\n",
    "\n",
    "train_dl = ImageDataloader.from_df(\n",
    "    path=\"dataset/train\",\n",
    "    image_col=\"id\",\n",
    "    label_cols=\"label\",\n",
    "    augmentations=train_transform,\n",
    "    df=train_df,\n",
    "    extension=\".png\",\n",
    "    convert_mode=\"RGB\",\n",
    ").get_loader(batch_size=32, shuffle=True, num_workers = 0)\n",
    "\n",
    "# Creating Validation Dataloader.\n",
    "\n",
    "valid_dl = ImageDataloader.from_df(\n",
    "    path=\"dataset/train\",\n",
    "    image_col=\"id\",\n",
    "    label_cols=\"label\",\n",
    "    augmentations=valid_transform,\n",
    "    df=valid_df,\n",
    "    extension=\".png\",\n",
    "    convert_mode=\"RGB\",\n",
    ").get_loader(batch_size=32, shuffle = False,num_workers=0)\n",
    "\n",
    "# Creating Test Dataloader.\n",
    "\n",
    "test_dl = ImageDataloader.from_df(\n",
    "    path=\"dataset/train\",\n",
    "    image_col=\"id\",\n",
    "    label_cols=None,  # Setting label_cols as None since we wont have labels for test data.\n",
    "    augmentations=valid_transform,\n",
    "    df=test_df,\n",
    "    extension=\".png\",\n",
    "    convert_mode=\"RGB\",\n",
    ").get_loader(batch_size=16, num_workers=0)\n"
   ]
  },
  {
   "cell_type": "code",
   "execution_count": 8,
   "id": "4f791cd4",
   "metadata": {},
   "outputs": [
    {
     "name": "stderr",
     "output_type": "stream",
     "text": [
      "Clipping input data to the valid range for imshow with RGB data ([0..1] for floats or [0..255] for integers).\n"
     ]
    },
    {
     "data": {
      "image/png": "[encoded data removed]",
      "text/plain": [
       "<Figure size 432x288 with 1 Axes>"
      ]
     },
     "metadata": {
      "needs_background": "light"
     },
     "output_type": "display_data"
    },
    {
     "data": {
      "application/javascript": [
       "\n",
       "            setTimeout(function() {\n",
       "                var nbb_cell_id = 8;\n",
       "                var nbb_unformatted_code = \"show_batch(train_dl)\";\n",
       "                var nbb_formatted_code = \"show_batch(train_dl)\";\n",
       "                var nbb_cells = Jupyter.notebook.get_cells();\n",
       "                for (var i = 0; i < nbb_cells.length; ++i) {\n",
       "                    if (nbb_cells[i].input_prompt_number == nbb_cell_id) {\n",
       "                        if (nbb_cells[i].get_text() == nbb_unformatted_code) {\n",
       "                             nbb_cells[i].set_text(nbb_formatted_code);\n",
       "                        }\n",
       "                        break;\n",
       "                    }\n",
       "                }\n",
       "            }, 500);\n",
       "            "
      ],
      "text/plain": [
       "<IPython.core.display.Javascript object>"
      ]
     },
     "metadata": {},
     "output_type": "display_data"
    }
   ],
   "source": [
    "show_batch(train_dl)"
   ]
  },
  {
   "cell_type": "code",
   "execution_count": 9,
   "id": "dcf8252c",
   "metadata": {},
   "outputs": [
    {
     "data": {
      "application/javascript": [
       "\n",
       "            setTimeout(function() {\n",
       "                var nbb_cell_id = 9;\n",
       "                var nbb_unformatted_code = \"class Net(nn.Module):\\n    def __init__(self, out_features):\\n        super().__init__()\\n        self.conv1 = nn.Conv2d(3, 6, 5)\\n        self.pool = nn.MaxPool2d(2, 2)\\n        self.conv2 = nn.Conv2d(6, 16, 5)\\n        self.fc1 = nn.Linear(16 * 5 * 5, 120)\\n        self.fc2 = nn.Linear(120, 84)\\n        self.fc3 = nn.Linear(84, 10)\\n\\n    def forward(self, x):\\n        x = self.pool(F.relu(self.conv1(x)))\\n        x = self.pool(F.relu(self.conv2(x)))\\n        x = x.view(-1, 16 * 5 * 5)\\n        x = F.relu(self.fc1(x))\\n        x = F.relu(self.fc2(x))\\n        x = self.fc3(x)\\n        return x\";\n",
       "                var nbb_formatted_code = \"class Net(nn.Module):\\n    def __init__(self, out_features):\\n        super().__init__()\\n        self.conv1 = nn.Conv2d(3, 6, 5)\\n        self.pool = nn.MaxPool2d(2, 2)\\n        self.conv2 = nn.Conv2d(6, 16, 5)\\n        self.fc1 = nn.Linear(16 * 5 * 5, 120)\\n        self.fc2 = nn.Linear(120, 84)\\n        self.fc3 = nn.Linear(84, 10)\\n\\n    def forward(self, x):\\n        x = self.pool(F.relu(self.conv1(x)))\\n        x = self.pool(F.relu(self.conv2(x)))\\n        x = x.view(-1, 16 * 5 * 5)\\n        x = F.relu(self.fc1(x))\\n        x = F.relu(self.fc2(x))\\n        x = self.fc3(x)\\n        return x\";\n",
       "                var nbb_cells = Jupyter.notebook.get_cells();\n",
       "                for (var i = 0; i < nbb_cells.length; ++i) {\n",
       "                    if (nbb_cells[i].input_prompt_number == nbb_cell_id) {\n",
       "                        if (nbb_cells[i].get_text() == nbb_unformatted_code) {\n",
       "                             nbb_cells[i].set_text(nbb_formatted_code);\n",
       "                        }\n",
       "                        break;\n",
       "                    }\n",
       "                }\n",
       "            }, 500);\n",
       "            "
      ],
      "text/plain": [
       "<IPython.core.display.Javascript object>"
      ]
     },
     "metadata": {},
     "output_type": "display_data"
    }
   ],
   "source": [
    "class Net(nn.Module):\n",
    "    def __init__(self, out_features):\n",
    "        super().__init__()\n",
    "        self.conv1 = nn.Conv2d(3, 6, 5)\n",
    "        self.pool = nn.MaxPool2d(2, 2)\n",
    "        self.conv2 = nn.Conv2d(6, 16, 5)\n",
    "        self.fc1 = nn.Linear(16 * 5 * 5, 120)\n",
    "        self.fc2 = nn.Linear(120, 84)\n",
    "        self.fc3 = nn.Linear(84, 10)\n",
    "\n",
    "    def forward(self, x):\n",
    "        x = self.pool(F.relu(self.conv1(x)))\n",
    "        x = self.pool(F.relu(self.conv2(x)))\n",
    "        x = x.view(-1, 16 * 5 * 5)\n",
    "        x = F.relu(self.fc1(x))\n",
    "        x = F.relu(self.fc2(x))\n",
    "        x = self.fc3(x)\n",
    "        return x\n"
   ]
  },
  {
   "cell_type": "code",
   "execution_count": 10,
   "id": "0d6c9384",
   "metadata": {},
   "outputs": [
    {
     "data": {
      "application/javascript": [
       "\n",
       "            setTimeout(function() {\n",
       "                var nbb_cell_id = 10;\n",
       "                var nbb_unformatted_code = \"\\nmetric_list = [metrics.Accuracy(num_classes=len(classes), multilabel=False)]\\n\\ncallbacks = [\\n    cbs.EarlyStopping(monitor=\\\"accuracy\\\", mode = \\\"max\\\",patience=5),\\n    cbs.ModelCheckpoint(monitor=\\\"accuracy\\\", mode = \\\"max\\\"),\\n    cbs.ReduceLROnPlateau(mode=\\\"max\\\" , patience = 2)\\n]\";\n",
       "                var nbb_formatted_code = \"metric_list = [metrics.Accuracy(num_classes=len(classes), multilabel=False)]\\n\\ncallbacks = [\\n    cbs.EarlyStopping(monitor=\\\"accuracy\\\", mode=\\\"max\\\", patience=5),\\n    cbs.ModelCheckpoint(monitor=\\\"accuracy\\\", mode=\\\"max\\\"),\\n    cbs.ReduceLROnPlateau(mode=\\\"max\\\", patience=2),\\n]\";\n",
       "                var nbb_cells = Jupyter.notebook.get_cells();\n",
       "                for (var i = 0; i < nbb_cells.length; ++i) {\n",
       "                    if (nbb_cells[i].input_prompt_number == nbb_cell_id) {\n",
       "                        if (nbb_cells[i].get_text() == nbb_unformatted_code) {\n",
       "                             nbb_cells[i].set_text(nbb_formatted_code);\n",
       "                        }\n",
       "                        break;\n",
       "                    }\n",
       "                }\n",
       "            }, 500);\n",
       "            "
      ],
      "text/plain": [
       "<IPython.core.display.Javascript object>"
      ]
     },
     "metadata": {},
     "output_type": "display_data"
    }
   ],
   "source": [
    "\n",
    "metric_list = [metrics.Accuracy(num_classes=len(classes), multilabel=False)]\n",
    "\n",
    "callbacks = [\n",
    "    cbs.EarlyStopping(monitor=\"accuracy\", mode = \"max\",patience=5),\n",
    "    cbs.ModelCheckpoint(monitor=\"accuracy\", mode = \"max\"),\n",
    "    cbs.ReduceLROnPlateau(mode=\"max\" , patience = 2)\n",
    "]\n"
   ]
  },
  {
   "cell_type": "code",
   "execution_count": 12,
   "id": "16027fe7",
   "metadata": {},
   "outputs": [
    {
     "name": "stdout",
     "output_type": "stream",
     "text": [
      "\n",
      "Epoch: 1/2\n",
      "Train: 875/875 [=========================]- 235s 269ms/step - train_loss: 1.8753 - train_accuracy: 0.3167\n",
      "Valid: 375/375 [=========================]- 109s 291ms/step - val_loss: 2.1901 - val_accuracy: 0.2831\n",
      "\n",
      "Epoch: 2/2\n",
      "Train: 875/875 [=========================]- 10s 12ms/step - train_loss: 1.5769 - train_accuracy: 0.3408\n",
      "Valid: 375/375 [=========================]- 3s 8ms/step - val_loss: 2.1514 - val_accuracy: 0.3223\n"
     ]
    },
    {
     "data": {
      "application/javascript": [
       "\n",
       "            setTimeout(function() {\n",
       "                var nbb_cell_id = 12;\n",
       "                var nbb_unformatted_code = \"exp = Experiment(\\n    num_epochs=2,\\n    fp16=True,\\n    device=\\\"cuda\\\",\\n    seed=42,\\n)\\nexp.compile_experiment(\\n    module=Net,\\n    module_params = {\\\"out_features\\\" : 10},\\n    optimizer=\\\"Adam\\\",\\n    optimizer_params = {\\\"lr\\\" : 3e-4},\\n    callbacks=callbacks,\\n    criterion=\\\"cross_entropy\\\",\\n    metrics=metric_list,\\n    main_metric=\\\"accuracy\\\",\\n)\\nexp.fit_loader(train_dl=train_dl, valid_dl=valid_dl)\";\n",
       "                var nbb_formatted_code = \"exp = Experiment(\\n    num_epochs=2,\\n    fp16=True,\\n    device=\\\"cuda\\\",\\n    seed=42,\\n)\\nexp.compile_experiment(\\n    module=Net,\\n    module_params={\\\"out_features\\\": 10},\\n    optimizer=\\\"Adam\\\",\\n    optimizer_params={\\\"lr\\\": 3e-4},\\n    callbacks=callbacks,\\n    criterion=\\\"cross_entropy\\\",\\n    metrics=metric_list,\\n    main_metric=\\\"accuracy\\\",\\n)\\nexp.fit_loader(train_dl=train_dl, valid_dl=valid_dl)\";\n",
       "                var nbb_cells = Jupyter.notebook.get_cells();\n",
       "                for (var i = 0; i < nbb_cells.length; ++i) {\n",
       "                    if (nbb_cells[i].input_prompt_number == nbb_cell_id) {\n",
       "                        if (nbb_cells[i].get_text() == nbb_unformatted_code) {\n",
       "                             nbb_cells[i].set_text(nbb_formatted_code);\n",
       "                        }\n",
       "                        break;\n",
       "                    }\n",
       "                }\n",
       "            }, 500);\n",
       "            "
      ],
      "text/plain": [
       "<IPython.core.display.Javascript object>"
      ]
     },
     "metadata": {},
     "output_type": "display_data"
    }
   ],
   "source": [
    "exp = Experiment(\n",
    "    num_epochs=2,\n",
    "    fp16=True,\n",
    "    device=\"cuda\",\n",
    "    seed=42,\n",
    ")\n",
    "exp.compile_experiment(\n",
    "    module=Net,\n",
    "    module_params = {\"out_features\" : 10},\n",
    "    optimizer=\"Adam\",\n",
    "    optimizer_params = {\"lr\" : 3e-4},\n",
    "    callbacks=callbacks,\n",
    "    criterion=\"cross_entropy\",\n",
    "    metrics=metric_list,\n",
    "    main_metric=\"accuracy\",\n",
    ")\n",
    "exp.fit_loader(train_dl=train_dl, valid_dl=valid_dl)\n",
    "\n",
    "\n"
   ]
  },
  {
   "cell_type": "code",
   "execution_count": 14,
   "id": "68b845af",
   "metadata": {},
   "outputs": [
    {
     "data": {
      "text/html": [
       "<div>\n",
       "<style scoped>\n",
       "    .dataframe tbody tr th:only-of-type {\n",
       "        vertical-align: middle;\n",
       "    }\n",
       "\n",
       "    .dataframe tbody tr th {\n",
       "        vertical-align: top;\n",
       "    }\n",
       "\n",
       "    .dataframe thead th {\n",
       "        text-align: right;\n",
       "    }\n",
       "</style>\n",
       "<table border=\"1\" class=\"dataframe\">\n",
       "  <thead>\n",
       "    <tr style=\"text-align: right;\">\n",
       "      <th></th>\n",
       "      <th>Epoch</th>\n",
       "      <th>train_loss</th>\n",
       "      <th>train_accuracy</th>\n",
       "      <th>val_loss</th>\n",
       "      <th>val_accuracy</th>\n",
       "    </tr>\n",
       "  </thead>\n",
       "  <tbody>\n",
       "    <tr>\n",
       "      <th>0</th>\n",
       "      <td>1</td>\n",
       "      <td>1.875317</td>\n",
       "      <td>0.316714</td>\n",
       "      <td>2.190095</td>\n",
       "      <td>0.283150</td>\n",
       "    </tr>\n",
       "    <tr>\n",
       "      <th>1</th>\n",
       "      <td>2</td>\n",
       "      <td>1.576903</td>\n",
       "      <td>0.340824</td>\n",
       "      <td>2.151352</td>\n",
       "      <td>0.322325</td>\n",
       "    </tr>\n",
       "  </tbody>\n",
       "</table>\n",
       "</div>"
      ],
      "text/plain": [
       "   Epoch  train_loss  train_accuracy  val_loss  val_accuracy\n",
       "0      1    1.875317        0.316714  2.190095      0.283150\n",
       "1      2    1.576903        0.340824  2.151352      0.322325"
      ]
     },
     "execution_count": 14,
     "metadata": {},
     "output_type": "execute_result"
    },
    {
     "data": {
      "application/javascript": [
       "\n",
       "            setTimeout(function() {\n",
       "                var nbb_cell_id = 14;\n",
       "                var nbb_unformatted_code = \"exp.get_logs()\";\n",
       "                var nbb_formatted_code = \"exp.get_logs()\";\n",
       "                var nbb_cells = Jupyter.notebook.get_cells();\n",
       "                for (var i = 0; i < nbb_cells.length; ++i) {\n",
       "                    if (nbb_cells[i].input_prompt_number == nbb_cell_id) {\n",
       "                        if (nbb_cells[i].get_text() == nbb_unformatted_code) {\n",
       "                             nbb_cells[i].set_text(nbb_formatted_code);\n",
       "                        }\n",
       "                        break;\n",
       "                    }\n",
       "                }\n",
       "            }, 500);\n",
       "            "
      ],
      "text/plain": [
       "<IPython.core.display.Javascript object>"
      ]
     },
     "metadata": {},
     "output_type": "display_data"
    }
   ],
   "source": [
    "exp.get_logs()"
   ]
  }
 ],
 "metadata": {
  "kernelspec": {
   "display_name": "Python 3",
   "language": "python",
   "name": "python3"
  },
  "language_info": {
   "codemirror_mode": {
    "name": "ipython",
    "version": 3
   },
   "file_extension": ".py",
   "mimetype": "text/x-python",
   "name": "python",
   "nbconvert_exporter": "python",
   "pygments_lexer": "ipython3",
   "version": "3.8.5"
  }
 },
 "nbformat": 4,
 "nbformat_minor": 5
}

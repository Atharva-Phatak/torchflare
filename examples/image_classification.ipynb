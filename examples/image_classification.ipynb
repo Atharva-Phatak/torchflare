{
 "cells": [
  {
   "cell_type": "markdown",
   "metadata": {},
   "source": [
    "## Image Classification using torchflare\n",
    "***\n",
    "* Dataset : https://www.kaggle.com/c/cifar-10\n",
    "* Install nb_black: https://github.com/dnanhkhoa/nb_black"
   ]
  },
  {
   "cell_type": "code",
   "execution_count": null,
   "metadata": {},
   "outputs": [],
   "source": [
    "import numpy as np\n",
    "import pandas as pd\n",
    "import albumentations as A\n",
    "\n",
    "import torchflare.callbacks as cbs\n",
    "import torchflare.metrics as metrics\n",
    "from torchflare.datasets import SimpleDataloader , show_batch\n",
    "from torchflare.experiments import Experiment\n",
    "\n",
    "import torch\n",
    "import torch.nn as nn\n",
    "import torch.nn.functional as F\n",
    "import torchvision.transforms as transforms"
   ]
  },
  {
   "cell_type": "code",
   "execution_count": 2,
   "metadata": {},
   "outputs": [
    {
     "data": {
      "application/javascript": [
       "\n",
       "            setTimeout(function() {\n",
       "                var nbb_cell_id = 2;\n",
       "                var nbb_unformatted_code = \"%load_ext nb_black\";\n",
       "                var nbb_formatted_code = \"%load_ext nb_black\";\n",
       "                var nbb_cells = Jupyter.notebook.get_cells();\n",
       "                for (var i = 0; i < nbb_cells.length; ++i) {\n",
       "                    if (nbb_cells[i].input_prompt_number == nbb_cell_id) {\n",
       "                        if (nbb_cells[i].get_text() == nbb_unformatted_code) {\n",
       "                             nbb_cells[i].set_text(nbb_formatted_code);\n",
       "                        }\n",
       "                        break;\n",
       "                    }\n",
       "                }\n",
       "            }, 500);\n",
       "            "
      ],
      "text/plain": [
       "<IPython.core.display.Javascript object>"
      ]
     },
     "metadata": {},
     "output_type": "display_data"
    }
   ],
   "source": [
    "%load_ext nb_black"
   ]
  },
  {
   "cell_type": "code",
   "execution_count": 3,
   "metadata": {},
   "outputs": [
    {
     "data": {
      "application/javascript": [
       "\n",
       "            setTimeout(function() {\n",
       "                var nbb_cell_id = 3;\n",
       "                var nbb_unformatted_code = \"df = pd.read_csv(\\\"trainLabels.csv\\\")\\nclasses = df.label.unique().tolist()\\nclass_to_idx = {value: key for key, value in enumerate(classes)}\\ndf.label = df.label.map(class_to_idx)\\ndf.id = df.id.astype(str)\";\n",
       "                var nbb_formatted_code = \"df = pd.read_csv(\\\"trainLabels.csv\\\")\\nclasses = df.label.unique().tolist()\\nclass_to_idx = {value: key for key, value in enumerate(classes)}\\ndf.label = df.label.map(class_to_idx)\\ndf.id = df.id.astype(str)\";\n",
       "                var nbb_cells = Jupyter.notebook.get_cells();\n",
       "                for (var i = 0; i < nbb_cells.length; ++i) {\n",
       "                    if (nbb_cells[i].input_prompt_number == nbb_cell_id) {\n",
       "                        if (nbb_cells[i].get_text() == nbb_unformatted_code) {\n",
       "                             nbb_cells[i].set_text(nbb_formatted_code);\n",
       "                        }\n",
       "                        break;\n",
       "                    }\n",
       "                }\n",
       "            }, 500);\n",
       "            "
      ],
      "text/plain": [
       "<IPython.core.display.Javascript object>"
      ]
     },
     "metadata": {},
     "output_type": "display_data"
    }
   ],
   "source": [
    "df = pd.read_csv(\"trainLabels.csv\")\n",
    "classes = df.label.unique().tolist()\n",
    "class_to_idx = {value: key for key, value in enumerate(classes)}\n",
    "df.label = df.label.map(class_to_idx)\n",
    "df.id = df.id.astype(str)"
   ]
  },
  {
   "cell_type": "code",
   "execution_count": 4,
   "metadata": {},
   "outputs": [
    {
     "data": {
      "text/html": [
       "<div>\n",
       "<style scoped>\n",
       "    .dataframe tbody tr th:only-of-type {\n",
       "        vertical-align: middle;\n",
       "    }\n",
       "\n",
       "    .dataframe tbody tr th {\n",
       "        vertical-align: top;\n",
       "    }\n",
       "\n",
       "    .dataframe thead th {\n",
       "        text-align: right;\n",
       "    }\n",
       "</style>\n",
       "<table border=\"1\" class=\"dataframe\">\n",
       "  <thead>\n",
       "    <tr style=\"text-align: right;\">\n",
       "      <th></th>\n",
       "      <th>id</th>\n",
       "      <th>label</th>\n",
       "    </tr>\n",
       "  </thead>\n",
       "  <tbody>\n",
       "    <tr>\n",
       "      <th>0</th>\n",
       "      <td>1</td>\n",
       "      <td>0</td>\n",
       "    </tr>\n",
       "    <tr>\n",
       "      <th>1</th>\n",
       "      <td>2</td>\n",
       "      <td>1</td>\n",
       "    </tr>\n",
       "    <tr>\n",
       "      <th>2</th>\n",
       "      <td>3</td>\n",
       "      <td>1</td>\n",
       "    </tr>\n",
       "    <tr>\n",
       "      <th>3</th>\n",
       "      <td>4</td>\n",
       "      <td>2</td>\n",
       "    </tr>\n",
       "    <tr>\n",
       "      <th>4</th>\n",
       "      <td>5</td>\n",
       "      <td>3</td>\n",
       "    </tr>\n",
       "  </tbody>\n",
       "</table>\n",
       "</div>"
      ],
      "text/plain": [
       "  id  label\n",
       "0  1      0\n",
       "1  2      1\n",
       "2  3      1\n",
       "3  4      2\n",
       "4  5      3"
      ]
     },
     "execution_count": 4,
     "metadata": {},
     "output_type": "execute_result"
    },
    {
     "data": {
      "application/javascript": [
       "\n",
       "            setTimeout(function() {\n",
       "                var nbb_cell_id = 4;\n",
       "                var nbb_unformatted_code = \"df.head()\";\n",
       "                var nbb_formatted_code = \"df.head()\";\n",
       "                var nbb_cells = Jupyter.notebook.get_cells();\n",
       "                for (var i = 0; i < nbb_cells.length; ++i) {\n",
       "                    if (nbb_cells[i].input_prompt_number == nbb_cell_id) {\n",
       "                        if (nbb_cells[i].get_text() == nbb_unformatted_code) {\n",
       "                             nbb_cells[i].set_text(nbb_formatted_code);\n",
       "                        }\n",
       "                        break;\n",
       "                    }\n",
       "                }\n",
       "            }, 500);\n",
       "            "
      ],
      "text/plain": [
       "<IPython.core.display.Javascript object>"
      ]
     },
     "metadata": {},
     "output_type": "display_data"
    }
   ],
   "source": [
    "df.head()"
   ]
  },
  {
   "cell_type": "code",
   "execution_count": 5,
   "metadata": {},
   "outputs": [
    {
     "data": {
      "text/plain": [
       "(50000, 2)"
      ]
     },
     "execution_count": 5,
     "metadata": {},
     "output_type": "execute_result"
    },
    {
     "data": {
      "application/javascript": [
       "\n",
       "            setTimeout(function() {\n",
       "                var nbb_cell_id = 5;\n",
       "                var nbb_unformatted_code = \"df.shape\";\n",
       "                var nbb_formatted_code = \"df.shape\";\n",
       "                var nbb_cells = Jupyter.notebook.get_cells();\n",
       "                for (var i = 0; i < nbb_cells.length; ++i) {\n",
       "                    if (nbb_cells[i].input_prompt_number == nbb_cell_id) {\n",
       "                        if (nbb_cells[i].get_text() == nbb_unformatted_code) {\n",
       "                             nbb_cells[i].set_text(nbb_formatted_code);\n",
       "                        }\n",
       "                        break;\n",
       "                    }\n",
       "                }\n",
       "            }, 500);\n",
       "            "
      ],
      "text/plain": [
       "<IPython.core.display.Javascript object>"
      ]
     },
     "metadata": {},
     "output_type": "display_data"
    }
   ],
   "source": [
    "df.shape"
   ]
  },
  {
   "cell_type": "code",
   "execution_count": 6,
   "metadata": {},
   "outputs": [
    {
     "data": {
      "application/javascript": [
       "\n",
       "            setTimeout(function() {\n",
       "                var nbb_cell_id = 6;\n",
       "                var nbb_unformatted_code = \"from sklearn.model_selection import train_test_split\\n\\ntest_df = df.iloc[:10000, :]  # I took first 10000 entries as test data\\ndata_df = df.iloc[10000:, :]\\ntrain_df, valid_df = train_test_split(data_df, test_size=0.3)\";\n",
       "                var nbb_formatted_code = \"from sklearn.model_selection import train_test_split\\n\\ntest_df = df.iloc[:10000, :]  # I took first 10000 entries as test data\\ndata_df = df.iloc[10000:, :]\\ntrain_df, valid_df = train_test_split(data_df, test_size=0.3)\";\n",
       "                var nbb_cells = Jupyter.notebook.get_cells();\n",
       "                for (var i = 0; i < nbb_cells.length; ++i) {\n",
       "                    if (nbb_cells[i].input_prompt_number == nbb_cell_id) {\n",
       "                        if (nbb_cells[i].get_text() == nbb_unformatted_code) {\n",
       "                             nbb_cells[i].set_text(nbb_formatted_code);\n",
       "                        }\n",
       "                        break;\n",
       "                    }\n",
       "                }\n",
       "            }, 500);\n",
       "            "
      ],
      "text/plain": [
       "<IPython.core.display.Javascript object>"
      ]
     },
     "metadata": {},
     "output_type": "display_data"
    }
   ],
   "source": [
    "from sklearn.model_selection import train_test_split\n",
    "\n",
    "test_df = df.iloc[:10000, :]  # I took first 10000 entries as test data\n",
    "data_df = df.iloc[10000:, :]\n",
    "train_df, valid_df = train_test_split(data_df, test_size=0.3)"
   ]
  },
  {
   "cell_type": "code",
   "execution_count": 7,
   "metadata": {},
   "outputs": [
    {
     "data": {
      "application/javascript": [
       "\n",
       "            setTimeout(function() {\n",
       "                var nbb_cell_id = 7;\n",
       "                var nbb_unformatted_code = \"transform = transforms.Compose(\\n    [transforms.ToTensor(), transforms.Normalize((0.5, 0.5, 0.5), (0.5, 0.5, 0.5))]\\n)\\n\\n# Train Dataloader\\ntrain_dl = SimpleDataloader.image_data_from_df(\\n    path=\\\"./train\\\",\\n    image_col=\\\"id\\\",\\n    label_cols=\\\"label\\\",\\n    augmentations=transform,\\n    df=train_df,\\n    extension=\\\".png\\\",\\n    convert_mode=\\\"RGB\\\",\\n).get_loader(batch_size=32, shuffle=True)\\n\\n# Validation Dataloader\\nvalid_dl = SimpleDataloader.image_data_from_df(\\n    path=\\\"./train\\\",\\n    image_col=\\\"id\\\",\\n    label_cols=\\\"label\\\",\\n    augmentations=transform,\\n    df=valid_df,\\n    extension=\\\".png\\\",\\n    convert_mode=\\\"RGB\\\",\\n).get_loader(batch_size=16, num_workers=0)\\n\\n# Test Transforms\\ntest_transform = transforms.Compose([transforms.ToTensor()])\\n\\n# Test dataloader\\ntest_dl = SimpleDataloader.image_data_from_df(\\n    path=\\\"./train\\\",\\n    image_col=\\\"id\\\",\\n    label_cols=None,\\n    augmentations=test_transform,\\n    df=test_df,\\n    extension=\\\".png\\\",\\n    convert_mode=\\\"RGB\\\",\\n).get_loader(batch_size=16, num_workers=0)\";\n",
       "                var nbb_formatted_code = \"transform = transforms.Compose(\\n    [transforms.ToTensor(), transforms.Normalize((0.5, 0.5, 0.5), (0.5, 0.5, 0.5))]\\n)\\n\\n# Train Dataloader\\ntrain_dl = SimpleDataloader.image_data_from_df(\\n    path=\\\"./train\\\",\\n    image_col=\\\"id\\\",\\n    label_cols=\\\"label\\\",\\n    augmentations=transform,\\n    df=train_df,\\n    extension=\\\".png\\\",\\n    convert_mode=\\\"RGB\\\",\\n).get_loader(batch_size=32, shuffle=True)\\n\\n# Validation Dataloader\\nvalid_dl = SimpleDataloader.image_data_from_df(\\n    path=\\\"./train\\\",\\n    image_col=\\\"id\\\",\\n    label_cols=\\\"label\\\",\\n    augmentations=transform,\\n    df=valid_df,\\n    extension=\\\".png\\\",\\n    convert_mode=\\\"RGB\\\",\\n).get_loader(batch_size=16, num_workers=0)\\n\\n# Test Transforms\\ntest_transform = transforms.Compose([transforms.ToTensor()])\\n\\n# Test dataloader\\ntest_dl = SimpleDataloader.image_data_from_df(\\n    path=\\\"./train\\\",\\n    image_col=\\\"id\\\",\\n    label_cols=None,\\n    augmentations=test_transform,\\n    df=test_df,\\n    extension=\\\".png\\\",\\n    convert_mode=\\\"RGB\\\",\\n).get_loader(batch_size=16, num_workers=0)\";\n",
       "                var nbb_cells = Jupyter.notebook.get_cells();\n",
       "                for (var i = 0; i < nbb_cells.length; ++i) {\n",
       "                    if (nbb_cells[i].input_prompt_number == nbb_cell_id) {\n",
       "                        if (nbb_cells[i].get_text() == nbb_unformatted_code) {\n",
       "                             nbb_cells[i].set_text(nbb_formatted_code);\n",
       "                        }\n",
       "                        break;\n",
       "                    }\n",
       "                }\n",
       "            }, 500);\n",
       "            "
      ],
      "text/plain": [
       "<IPython.core.display.Javascript object>"
      ]
     },
     "metadata": {},
     "output_type": "display_data"
    }
   ],
   "source": [
    "transform = transforms.Compose(\n",
    "    [transforms.ToTensor(), transforms.Normalize((0.5, 0.5, 0.5), (0.5, 0.5, 0.5))]\n",
    ")\n",
    "\n",
    "# Train Dataloader\n",
    "train_dl = SimpleDataloader.image_data_from_df(\n",
    "    path=\"./train\",\n",
    "    image_col=\"id\",\n",
    "    label_cols=\"label\",\n",
    "    augmentations=transform,\n",
    "    df=train_df,\n",
    "    extension=\".png\",\n",
    "    convert_mode=\"RGB\",\n",
    ").get_loader(batch_size=32, shuffle=True)\n",
    "\n",
    "# Validation Dataloader\n",
    "valid_dl = SimpleDataloader.image_data_from_df(\n",
    "    path=\"./train\",\n",
    "    image_col=\"id\",\n",
    "    label_cols=\"label\",\n",
    "    augmentations=transform,\n",
    "    df=valid_df,\n",
    "    extension=\".png\",\n",
    "    convert_mode=\"RGB\",\n",
    ").get_loader(batch_size=16, num_workers=0)\n",
    "\n",
    "# Test Transforms\n",
    "test_transform = transforms.Compose([transforms.ToTensor()])\n",
    "\n",
    "# Test dataloader\n",
    "test_dl = SimpleDataloader.image_data_from_df(\n",
    "    path=\"./train\",\n",
    "    image_col=\"id\",\n",
    "    label_cols=None,\n",
    "    augmentations=test_transform,\n",
    "    df=test_df,\n",
    "    extension=\".png\",\n",
    "    convert_mode=\"RGB\",\n",
    ").get_loader(batch_size=16, num_workers=0)"
   ]
  },
  {
   "cell_type": "code",
   "execution_count": 8,
   "metadata": {},
   "outputs": [
    {
     "name": "stderr",
     "output_type": "stream",
     "text": [
      "Clipping input data to the valid range for imshow with RGB data ([0..1] for floats or [0..255] for integers).\n"
     ]
    },
    {
     "data": {
      "image/png": "[encoded data removed]",
      "text/plain": [
       "<Figure size 432x288 with 1 Axes>"
      ]
     },
     "metadata": {
      "needs_background": "light"
     },
     "output_type": "display_data"
    },
    {
     "data": {
      "application/javascript": [
       "\n",
       "            setTimeout(function() {\n",
       "                var nbb_cell_id = 8;\n",
       "                var nbb_unformatted_code = \"# Note show batch only works for image data(classification and segmentation.)\\nshow_batch(train_dl, value_range=(0, 1))\";\n",
       "                var nbb_formatted_code = \"# Note show batch only works for image data(classification and segmentation.)\\nshow_batch(train_dl, value_range=(0, 1))\";\n",
       "                var nbb_cells = Jupyter.notebook.get_cells();\n",
       "                for (var i = 0; i < nbb_cells.length; ++i) {\n",
       "                    if (nbb_cells[i].input_prompt_number == nbb_cell_id) {\n",
       "                        if (nbb_cells[i].get_text() == nbb_unformatted_code) {\n",
       "                             nbb_cells[i].set_text(nbb_formatted_code);\n",
       "                        }\n",
       "                        break;\n",
       "                    }\n",
       "                }\n",
       "            }, 500);\n",
       "            "
      ],
      "text/plain": [
       "<IPython.core.display.Javascript object>"
      ]
     },
     "metadata": {},
     "output_type": "display_data"
    }
   ],
   "source": [
    "# Note show batch only works for image data(classification and segmentation.)\n",
    "show_batch(train_dl, value_range=(0, 1))"
   ]
  },
  {
   "cell_type": "code",
   "execution_count": 9,
   "metadata": {},
   "outputs": [
    {
     "data": {
      "application/javascript": [
       "\n",
       "            setTimeout(function() {\n",
       "                var nbb_cell_id = 9;\n",
       "                var nbb_unformatted_code = \"\\nclass Net(nn.Module):\\n    def __init__(self):\\n        super(Net, self).__init__()\\n        self.conv1 = nn.Conv2d(3, 6, 5)\\n        self.pool = nn.MaxPool2d(2, 2)\\n        self.conv2 = nn.Conv2d(6, 16, 5)\\n        self.fc1 = nn.Linear(16 * 5 * 5, 120)\\n        self.fc2 = nn.Linear(120, 84)\\n        self.fc3 = nn.Linear(84, 10)\\n\\n    def forward(self, x):\\n        x = self.pool(F.relu(self.conv1(x)))\\n        x = self.pool(F.relu(self.conv2(x)))\\n        x = x.view(-1, 16 * 5 * 5)\\n        x = F.relu(self.fc1(x))\\n        x = F.relu(self.fc2(x))\\n        x = self.fc3(x)\\n        return x\";\n",
       "                var nbb_formatted_code = \"class Net(nn.Module):\\n    def __init__(self):\\n        super(Net, self).__init__()\\n        self.conv1 = nn.Conv2d(3, 6, 5)\\n        self.pool = nn.MaxPool2d(2, 2)\\n        self.conv2 = nn.Conv2d(6, 16, 5)\\n        self.fc1 = nn.Linear(16 * 5 * 5, 120)\\n        self.fc2 = nn.Linear(120, 84)\\n        self.fc3 = nn.Linear(84, 10)\\n\\n    def forward(self, x):\\n        x = self.pool(F.relu(self.conv1(x)))\\n        x = self.pool(F.relu(self.conv2(x)))\\n        x = x.view(-1, 16 * 5 * 5)\\n        x = F.relu(self.fc1(x))\\n        x = F.relu(self.fc2(x))\\n        x = self.fc3(x)\\n        return x\";\n",
       "                var nbb_cells = Jupyter.notebook.get_cells();\n",
       "                for (var i = 0; i < nbb_cells.length; ++i) {\n",
       "                    if (nbb_cells[i].input_prompt_number == nbb_cell_id) {\n",
       "                        if (nbb_cells[i].get_text() == nbb_unformatted_code) {\n",
       "                             nbb_cells[i].set_text(nbb_formatted_code);\n",
       "                        }\n",
       "                        break;\n",
       "                    }\n",
       "                }\n",
       "            }, 500);\n",
       "            "
      ],
      "text/plain": [
       "<IPython.core.display.Javascript object>"
      ]
     },
     "metadata": {},
     "output_type": "display_data"
    }
   ],
   "source": [
    "\n",
    "class Net(nn.Module):\n",
    "    def __init__(self):\n",
    "        super(Net, self).__init__()\n",
    "        self.conv1 = nn.Conv2d(3, 6, 5)\n",
    "        self.pool = nn.MaxPool2d(2, 2)\n",
    "        self.conv2 = nn.Conv2d(6, 16, 5)\n",
    "        self.fc1 = nn.Linear(16 * 5 * 5, 120)\n",
    "        self.fc2 = nn.Linear(120, 84)\n",
    "        self.fc3 = nn.Linear(84, 10)\n",
    "\n",
    "    def forward(self, x):\n",
    "        x = self.pool(F.relu(self.conv1(x)))\n",
    "        x = self.pool(F.relu(self.conv2(x)))\n",
    "        x = x.view(-1, 16 * 5 * 5)\n",
    "        x = F.relu(self.fc1(x))\n",
    "        x = F.relu(self.fc2(x))\n",
    "        x = self.fc3(x)\n",
    "        return x\n"
   ]
  },
  {
   "cell_type": "code",
   "execution_count": 10,
   "metadata": {},
   "outputs": [
    {
     "data": {
      "application/javascript": [
       "\n",
       "            setTimeout(function() {\n",
       "                var nbb_cell_id = 10;\n",
       "                var nbb_unformatted_code = \"net = Net()\";\n",
       "                var nbb_formatted_code = \"net = Net()\";\n",
       "                var nbb_cells = Jupyter.notebook.get_cells();\n",
       "                for (var i = 0; i < nbb_cells.length; ++i) {\n",
       "                    if (nbb_cells[i].input_prompt_number == nbb_cell_id) {\n",
       "                        if (nbb_cells[i].get_text() == nbb_unformatted_code) {\n",
       "                             nbb_cells[i].set_text(nbb_formatted_code);\n",
       "                        }\n",
       "                        break;\n",
       "                    }\n",
       "                }\n",
       "            }, 500);\n",
       "            "
      ],
      "text/plain": [
       "<IPython.core.display.Javascript object>"
      ]
     },
     "metadata": {},
     "output_type": "display_data"
    }
   ],
   "source": [
    "net = Net()"
   ]
  },
  {
   "cell_type": "code",
   "execution_count": 11,
   "metadata": {},
   "outputs": [
    {
     "data": {
      "application/javascript": [
       "\n",
       "            setTimeout(function() {\n",
       "                var nbb_cell_id = 11;\n",
       "                var nbb_unformatted_code = \"metric_list = [metrics.Accuracy(num_classes=len(classes), multilabel=False)]\\ncallbacks = [\\n    cbs.EarlyStopping(monitor=\\\"accuracy\\\", patience=5),\\n    cbs.ModelCheckpoint(monitor=\\\"accuracy\\\"),  # Always use lower case name of metric\\n]\";\n",
       "                var nbb_formatted_code = \"metric_list = [metrics.Accuracy(num_classes=len(classes), multilabel=False)]\\ncallbacks = [\\n    cbs.EarlyStopping(monitor=\\\"accuracy\\\", patience=5),\\n    cbs.ModelCheckpoint(monitor=\\\"accuracy\\\"),  # Always use lower case name of metric\\n]\";\n",
       "                var nbb_cells = Jupyter.notebook.get_cells();\n",
       "                for (var i = 0; i < nbb_cells.length; ++i) {\n",
       "                    if (nbb_cells[i].input_prompt_number == nbb_cell_id) {\n",
       "                        if (nbb_cells[i].get_text() == nbb_unformatted_code) {\n",
       "                             nbb_cells[i].set_text(nbb_formatted_code);\n",
       "                        }\n",
       "                        break;\n",
       "                    }\n",
       "                }\n",
       "            }, 500);\n",
       "            "
      ],
      "text/plain": [
       "<IPython.core.display.Javascript object>"
      ]
     },
     "metadata": {},
     "output_type": "display_data"
    }
   ],
   "source": [
    "metric_list = [metrics.Accuracy(num_classes=len(classes), multilabel=False)]\n",
    "callbacks = [\n",
    "    cbs.EarlyStopping(monitor=\"accuracy\", patience=5),\n",
    "    cbs.ModelCheckpoint(monitor=\"accuracy\"),  # Always use lower case name of metric\n",
    "]"
   ]
  },
  {
   "cell_type": "code",
   "execution_count": 12,
   "metadata": {},
   "outputs": [
    {
     "data": {
      "application/javascript": [
       "\n",
       "            setTimeout(function() {\n",
       "                var nbb_cell_id = 12;\n",
       "                var nbb_unformatted_code = \"exp = Experiment(\\n    num_epochs=5,\\n    save_dir=\\\"./models\\\",\\n    model_name=\\\"cifar10.bin\\\",\\n    fp16=False,\\n    using_batch_mixers=False,\\n    device=\\\"cuda\\\",\\n    compute_train_metrics=True,\\n    seed=42,\\n)\";\n",
       "                var nbb_formatted_code = \"exp = Experiment(\\n    num_epochs=5,\\n    save_dir=\\\"./models\\\",\\n    model_name=\\\"cifar10.bin\\\",\\n    fp16=False,\\n    using_batch_mixers=False,\\n    device=\\\"cuda\\\",\\n    compute_train_metrics=True,\\n    seed=42,\\n)\";\n",
       "                var nbb_cells = Jupyter.notebook.get_cells();\n",
       "                for (var i = 0; i < nbb_cells.length; ++i) {\n",
       "                    if (nbb_cells[i].input_prompt_number == nbb_cell_id) {\n",
       "                        if (nbb_cells[i].get_text() == nbb_unformatted_code) {\n",
       "                             nbb_cells[i].set_text(nbb_formatted_code);\n",
       "                        }\n",
       "                        break;\n",
       "                    }\n",
       "                }\n",
       "            }, 500);\n",
       "            "
      ],
      "text/plain": [
       "<IPython.core.display.Javascript object>"
      ]
     },
     "metadata": {},
     "output_type": "display_data"
    }
   ],
   "source": [
    "exp = Experiment(\n",
    "    num_epochs=5,\n",
    "    save_dir=\"./models\",\n",
    "    model_name=\"cifar10.bin\",\n",
    "    fp16=False,\n",
    "    using_batch_mixers=False,\n",
    "    device=\"cuda\",\n",
    "    compute_train_metrics=True,\n",
    "    seed=42,\n",
    ")"
   ]
  },
  {
   "cell_type": "code",
   "execution_count": 13,
   "metadata": {},
   "outputs": [
    {
     "data": {
      "application/javascript": [
       "\n",
       "            setTimeout(function() {\n",
       "                var nbb_cell_id = 13;\n",
       "                var nbb_unformatted_code = \"exp.compile_experiment(\\n    model=net,\\n    optimizer=\\\"Adam\\\",\\n    optimizer_params=dict(lr=3e-4),\\n    callbacks=callbacks,\\n    scheduler=\\\"ReduceLROnPlateau\\\",\\n    scheduler_params=dict(mode=\\\"max\\\", patience=5),\\n    criterion=\\\"cross_entropy\\\",\\n    metrics=metric_list,\\n    main_metric=\\\"accuracy\\\",\\n)\";\n",
       "                var nbb_formatted_code = \"exp.compile_experiment(\\n    model=net,\\n    optimizer=\\\"Adam\\\",\\n    optimizer_params=dict(lr=3e-4),\\n    callbacks=callbacks,\\n    scheduler=\\\"ReduceLROnPlateau\\\",\\n    scheduler_params=dict(mode=\\\"max\\\", patience=5),\\n    criterion=\\\"cross_entropy\\\",\\n    metrics=metric_list,\\n    main_metric=\\\"accuracy\\\",\\n)\";\n",
       "                var nbb_cells = Jupyter.notebook.get_cells();\n",
       "                for (var i = 0; i < nbb_cells.length; ++i) {\n",
       "                    if (nbb_cells[i].input_prompt_number == nbb_cell_id) {\n",
       "                        if (nbb_cells[i].get_text() == nbb_unformatted_code) {\n",
       "                             nbb_cells[i].set_text(nbb_formatted_code);\n",
       "                        }\n",
       "                        break;\n",
       "                    }\n",
       "                }\n",
       "            }, 500);\n",
       "            "
      ],
      "text/plain": [
       "<IPython.core.display.Javascript object>"
      ]
     },
     "metadata": {},
     "output_type": "display_data"
    }
   ],
   "source": [
    "exp.compile_experiment(\n",
    "    model=net,\n",
    "    optimizer=\"Adam\",\n",
    "    optimizer_params=dict(lr=3e-4),\n",
    "    callbacks=callbacks,\n",
    "    scheduler=\"ReduceLROnPlateau\",\n",
    "    scheduler_params=dict(mode=\"max\", patience=5),\n",
    "    criterion=\"cross_entropy\",\n",
    "    metrics=metric_list,\n",
    "    main_metric=\"accuracy\",\n",
    ")"
   ]
  },
  {
   "cell_type": "code",
   "execution_count": 14,
   "metadata": {},
   "outputs": [
    {
     "name": "stdout",
     "output_type": "stream",
     "text": [
      "Sanity Check Completed. Model Forward Pass and Loss Computation Successful\n",
      "Output Shape : torch.Size([32, 10])\n",
      "Loss for a batch :2.2839059829711914\n"
     ]
    },
    {
     "data": {
      "application/javascript": [
       "\n",
       "            setTimeout(function() {\n",
       "                var nbb_cell_id = 14;\n",
       "                var nbb_unformatted_code = \"exp.perform_sanity_check(train_dl)\";\n",
       "                var nbb_formatted_code = \"exp.perform_sanity_check(train_dl)\";\n",
       "                var nbb_cells = Jupyter.notebook.get_cells();\n",
       "                for (var i = 0; i < nbb_cells.length; ++i) {\n",
       "                    if (nbb_cells[i].input_prompt_number == nbb_cell_id) {\n",
       "                        if (nbb_cells[i].get_text() == nbb_unformatted_code) {\n",
       "                             nbb_cells[i].set_text(nbb_formatted_code);\n",
       "                        }\n",
       "                        break;\n",
       "                    }\n",
       "                }\n",
       "            }, 500);\n",
       "            "
      ],
      "text/plain": [
       "<IPython.core.display.Javascript object>"
      ]
     },
     "metadata": {},
     "output_type": "display_data"
    }
   ],
   "source": [
    "exp.perform_sanity_check(train_dl)"
   ]
  },
  {
   "cell_type": "code",
   "execution_count": 15,
   "metadata": {},
   "outputs": [
    {
     "data": {
      "text/html": [
       "<table border=\"1\" class=\"dataframe\">\n",
       "  <thead>\n",
       "    <tr style=\"text-align: left;\">\n",
       "      <th>Epoch</th>\n",
       "      <th>train_loss</th>\n",
       "      <th>train_accuracy</th>\n",
       "      <th>val_loss</th>\n",
       "      <th>val_accuracy</th>\n",
       "      <th>Time</th>\n",
       "    </tr>\n",
       "  </thead>\n",
       "  <tbody>\n",
       "    <tr>\n",
       "      <td>0</td>\n",
       "      <td>1.89916</td>\n",
       "      <td>0.30546</td>\n",
       "      <td>1.70383</td>\n",
       "      <td>0.37542</td>\n",
       "      <td>06:47</td>\n",
       "    </tr>\n",
       "    <tr>\n",
       "      <td>1</td>\n",
       "      <td>1.63439</td>\n",
       "      <td>0.40893</td>\n",
       "      <td>1.56637</td>\n",
       "      <td>0.42775</td>\n",
       "      <td>00:31</td>\n",
       "    </tr>\n",
       "    <tr>\n",
       "      <td>2</td>\n",
       "      <td>1.53299</td>\n",
       "      <td>0.44500</td>\n",
       "      <td>1.51328</td>\n",
       "      <td>0.45375</td>\n",
       "      <td>00:37</td>\n",
       "    </tr>\n",
       "    <tr>\n",
       "      <td>3</td>\n",
       "      <td>1.46115</td>\n",
       "      <td>0.47182</td>\n",
       "      <td>1.45357</td>\n",
       "      <td>0.47150</td>\n",
       "      <td>00:33</td>\n",
       "    </tr>\n",
       "    <tr>\n",
       "      <td>4</td>\n",
       "      <td>1.39868</td>\n",
       "      <td>0.49604</td>\n",
       "      <td>1.40831</td>\n",
       "      <td>0.49100</td>\n",
       "      <td>00:37</td>\n",
       "    </tr>\n",
       "  </tbody>\n",
       "</table>"
      ],
      "text/plain": [
       "<IPython.core.display.HTML object>"
      ]
     },
     "metadata": {},
     "output_type": "display_data"
    },
    {
     "data": {
      "application/javascript": [
       "\n",
       "            setTimeout(function() {\n",
       "                var nbb_cell_id = 15;\n",
       "                var nbb_unformatted_code = \"exp.run_experiment(train_dl=train_dl, valid_dl=valid_dl)\";\n",
       "                var nbb_formatted_code = \"exp.run_experiment(train_dl=train_dl, valid_dl=valid_dl)\";\n",
       "                var nbb_cells = Jupyter.notebook.get_cells();\n",
       "                for (var i = 0; i < nbb_cells.length; ++i) {\n",
       "                    if (nbb_cells[i].input_prompt_number == nbb_cell_id) {\n",
       "                        if (nbb_cells[i].get_text() == nbb_unformatted_code) {\n",
       "                             nbb_cells[i].set_text(nbb_formatted_code);\n",
       "                        }\n",
       "                        break;\n",
       "                    }\n",
       "                }\n",
       "            }, 500);\n",
       "            "
      ],
      "text/plain": [
       "<IPython.core.display.Javascript object>"
      ]
     },
     "metadata": {},
     "output_type": "display_data"
    }
   ],
   "source": [
    "exp.run_experiment(train_dl=train_dl, valid_dl=valid_dl)"
   ]
  },
  {
   "cell_type": "code",
   "execution_count": 16,
   "metadata": {},
   "outputs": [
    {
     "data": {
      "application/javascript": [
       "\n",
       "            setTimeout(function() {\n",
       "                var nbb_cell_id = 16;\n",
       "                var nbb_unformatted_code = \"# Inference\\nops = []\\nfor op in exp.infer(path=\\\"./models/cifar10.bin\\\", test_loader=test_dl):\\n    _, y_pred = torch.max(op, dim=1)\\n    ops.extend(y_pred)\";\n",
       "                var nbb_formatted_code = \"# Inference\\nops = []\\nfor op in exp.infer(path=\\\"./models/cifar10.bin\\\", test_loader=test_dl):\\n    _, y_pred = torch.max(op, dim=1)\\n    ops.extend(y_pred)\";\n",
       "                var nbb_cells = Jupyter.notebook.get_cells();\n",
       "                for (var i = 0; i < nbb_cells.length; ++i) {\n",
       "                    if (nbb_cells[i].input_prompt_number == nbb_cell_id) {\n",
       "                        if (nbb_cells[i].get_text() == nbb_unformatted_code) {\n",
       "                             nbb_cells[i].set_text(nbb_formatted_code);\n",
       "                        }\n",
       "                        break;\n",
       "                    }\n",
       "                }\n",
       "            }, 500);\n",
       "            "
      ],
      "text/plain": [
       "<IPython.core.display.Javascript object>"
      ]
     },
     "metadata": {},
     "output_type": "display_data"
    }
   ],
   "source": [
    "# Inference\n",
    "ops = []\n",
    "for op in exp.infer(path=\"./models/cifar10.bin\", test_loader=test_dl):\n",
    "    _, y_pred = torch.max(op, dim=1)\n",
    "    ops.extend(y_pred)\n"
   ]
  },
  {
   "cell_type": "code",
   "execution_count": 20,
   "metadata": {},
   "outputs": [
    {
     "data": {
      "image/png": "[encoded data removed]",
      "text/plain": [
       "<Figure size 720x720 with 1 Axes>"
      ]
     },
     "metadata": {
      "needs_background": "light"
     },
     "output_type": "display_data"
    },
    {
     "data": {
      "image/png": "[encoded data removed]",
      "text/plain": [
       "<Figure size 720x720 with 1 Axes>"
      ]
     },
     "metadata": {
      "needs_background": "light"
     },
     "output_type": "display_data"
    },
    {
     "data": {
      "application/javascript": [
       "\n",
       "            setTimeout(function() {\n",
       "                var nbb_cell_id = 20;\n",
       "                var nbb_unformatted_code = \"plot_metrics = [\\\"loss\\\", \\\"accuracy\\\"]\\nfor metric in plot_metrics:\\n    exp.plot_history(key=metric, save_fig=False, plot_fig=True)\";\n",
       "                var nbb_formatted_code = \"plot_metrics = [\\\"loss\\\", \\\"accuracy\\\"]\\nfor metric in plot_metrics:\\n    exp.plot_history(key=metric, save_fig=False, plot_fig=True)\";\n",
       "                var nbb_cells = Jupyter.notebook.get_cells();\n",
       "                for (var i = 0; i < nbb_cells.length; ++i) {\n",
       "                    if (nbb_cells[i].input_prompt_number == nbb_cell_id) {\n",
       "                        if (nbb_cells[i].get_text() == nbb_unformatted_code) {\n",
       "                             nbb_cells[i].set_text(nbb_formatted_code);\n",
       "                        }\n",
       "                        break;\n",
       "                    }\n",
       "                }\n",
       "            }, 500);\n",
       "            "
      ],
      "text/plain": [
       "<IPython.core.display.Javascript object>"
      ]
     },
     "metadata": {},
     "output_type": "display_data"
    }
   ],
   "source": [
    "plot_metrics = [\"loss\", \"accuracy\"]\n",
    "for metric in plot_metrics:\n",
    "    exp.plot_history(key=metric, save_fig=False, plot_fig=True)"
   ]
  },
  {
   "cell_type": "code",
   "execution_count": null,
   "metadata": {},
   "outputs": [],
   "source": []
  }
 ],
 "metadata": {
  "kernelspec": {
   "display_name": "Python 3",
   "language": "python",
   "name": "python3"
  },
  "language_info": {
   "codemirror_mode": {
    "name": "ipython",
    "version": 3
   },
   "file_extension": ".py",
   "mimetype": "text/x-python",
   "name": "python",
   "nbconvert_exporter": "python",
   "pygments_lexer": "ipython3",
   "version": "3.8.5"
  }
 },
 "nbformat": 4,
 "nbformat_minor": 4
}
